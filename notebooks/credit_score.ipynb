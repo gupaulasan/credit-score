{
 "cells": [
  {
   "cell_type": "markdown",
   "metadata": {},
   "source": [
    "# Case: Score de crédito\n",
    "\n",
    "O score de crédito é uma importante ferramenta para instituições financeiras. Com ele, é possível estimar o risco de fornecer crédito a um cliente que o solicitou, reduzindo riscos de prejuízo por parte da instituição financeira por conta de inadimplência. De acordo com dados da [Serasa Experian](https://cdn.builder.io/o/assets%2Fb212bb18f00a40869a6cd42f77cbeefc%2F63e097304b0446f48433934a6685a388?alt=media&token=dab540dc-1f00-4809-9999-7407aa3e39fd&apiKey=b212bb18f00a40869a6cd42f77cbeefc), em Agosto de 2024, o número de pessoas inadimplentes no Brasil era de 72,5 milhões, representando uma dívida total de R$ 390,5 bilhões.\n",
    "\n",
    "A determinação de um score de crédito pode ser complexa, são diversos fatores que influenciam na probabilidade de inadimplência de um devedor.\n",
    "\n",
    "## Sumário"
   ]
  },
  {
   "cell_type": "markdown",
   "metadata": {},
   "source": [
    "## 1. Imports\n",
    "\n",
    "Seção destinada à importação de bibliotecas, definições de funções e importação dos dados disponíveis"
   ]
  },
  {
   "cell_type": "code",
   "execution_count": 1,
   "metadata": {},
   "outputs": [
    {
     "data": {
      "text/plain": [
       "'/Users/gustavosantos/code/credit-score'"
      ]
     },
     "metadata": {},
     "output_type": "display_data"
    }
   ],
   "source": [
    "import os\n",
    "import re\n",
    "import warnings\n",
    "from typing import List, Union\n",
    "\n",
    "import matplotlib.pyplot as plt\n",
    "import numpy as np\n",
    "import pandas as pd\n",
    "import seaborn as sns\n",
    "from sklearn.ensemble import RandomForestClassifier\n",
    "from sklearn.linear_model import LogisticRegression\n",
    "from sklearn.metrics import (\n",
    "    accuracy_score,\n",
    "    balanced_accuracy_score,\n",
    "    classification_report,\n",
    "    confusion_matrix,\n",
    ")\n",
    "from sklearn.model_selection import train_test_split\n",
    "from sklearn.preprocessing import OneHotEncoder\n",
    "\n",
    "warnings.filterwarnings(\"ignore\")\n",
    "# Mudar o diretório de trabalho para o diretório do projeto\n",
    "os.chdir(\"/Users/gustavosantos/code/credit-score\")\n",
    "display(os.getcwd())"
   ]
  },
  {
   "cell_type": "code",
   "execution_count": 2,
   "metadata": {},
   "outputs": [],
   "source": [
    "def fill_na_with_mode(\n",
    "    df: pd.DataFrame, group_col: Union[str, List[str]], fill_col: str\n",
    "):\n",
    "    \"\"\"\n",
    "    Preenche valores faltantes com a moda de um grupo.\n",
    "\n",
    "    Parameters\n",
    "    ----------\n",
    "    df : pandas.DataFrame\n",
    "        DataFrame com os dados.\n",
    "    group_col : Union[str, List(str)]\n",
    "        Nome da coluna que será usada para agrupar os dados.\n",
    "    fill_col : str\n",
    "        Nome da coluna que será preenchida.\n",
    "\n",
    "    Returns\n",
    "    -------\n",
    "    None\n",
    "    \"\"\"\n",
    "    mode_values = df.groupby(group_col)[fill_col].apply(\n",
    "        lambda x: x.mode().iloc[0] if not x.mode().empty else np.nan\n",
    "    )\n",
    "\n",
    "    df[fill_col] = df.apply(\n",
    "        lambda row: mode_values[row[group_col]]\n",
    "        if pd.isna(row[fill_col])\n",
    "        else row[fill_col],\n",
    "        axis=1,\n",
    "    )\n",
    "\n",
    "\n",
    "def impute_with_median(\n",
    "    df: pd.DataFrame, group_cols: Union[str, List[str]], target_col: str\n",
    "):\n",
    "    \"\"\"\n",
    "    Preenche valores faltantes com a mediana de um grupo.\n",
    "\n",
    "    Parameters\n",
    "    ----------\n",
    "    df : pandas.DataFrame\n",
    "        DataFrame com os dados.\n",
    "    group_cols : Union[str, List(str)]\n",
    "        Lista com os nomes das colunas que serão usadas para agrupar os dados.\n",
    "    target_col : str\n",
    "        Nome da coluna que será preenchida.\n",
    "\n",
    "    Returns\n",
    "    -------\n",
    "    None\n",
    "\n",
    "    \"\"\"\n",
    "    median_values = df.groupby(group_cols)[target_col].median()\n",
    "    df[target_col] = df.apply(\n",
    "        lambda row: median_values[row[group_cols[0]], row[group_cols[1]]]\n",
    "        if pd.isna(row[target_col])\n",
    "        else row[target_col],\n",
    "        axis=1,\n",
    "    )"
   ]
  },
  {
   "cell_type": "code",
   "execution_count": 3,
   "metadata": {},
   "outputs": [],
   "source": [
    "df_info = pd.read_csv(\"data/base_info.csv\")\n",
    "df_pagamentos = pd.read_csv(\"data/base_pagamentos_desenvolvimento.csv\")\n",
    "df_cadastral = pd.read_csv(\"data/base_cadastral.csv\")\n",
    "df_pagamentos_teste = pd.read_csv(\"data/base_pagamentos_teste.csv\")"
   ]
  },
  {
   "cell_type": "markdown",
   "metadata": {},
   "source": [
    "## 2. Entendendo os dados\n",
    "\n",
    "Esta seção fornece uma visão detalhada da estrutura e do significado dos dados que serão analisados"
   ]
  },
  {
   "cell_type": "markdown",
   "metadata": {},
   "source": [
    "### Dicionário de variáveis\n",
    "\n",
    "1. **Base Info** (`df_info`):\n",
    "    * **Chaves primárias (PK):** são as colunas que servem de referência para a agregação com as outras bases, cada par desses atributos deve aparecer apenas uma vez nessa base\n",
    "        - `ID_CLIENTE`: Identificador único do cliente.\n",
    "        - `SAFRA_REF`: Mês de referência da amostra.\n",
    "\n",
    "    * **Outros atributos:**\n",
    "        - `RENDA_MES_ANTERIOR`: Renda ou faturamento declarado pelo cliente no fim do mês anterior.\n",
    "        - `NO_FUNCIONARIOS`: Número de funcionários reportado pelo cliente no fim do mês anterior.\n",
    "\n",
    "2. **Base Cadastral** (`df_cadastral`):\n",
    "    * **Chave primária:**\n",
    "        - `ID_CLIENTE`: Identificador único do cliente. Servirá para realizar a junção com a coluna de mesmo nome na Base Info.\n",
    "\n",
    "    * **Outros atributos:**\n",
    "        - `DATA_CADASTRO`: Data da realização do cadastro no sistema. \n",
    "        - `DDD`: Número do DDD do telefone do cliente. \n",
    "        - `FLAG_PF`: Indica se o cliente é um pessoa física ('X') ou jurídica ('NaN')\n",
    "        - `SEGMENTO_INSTUSTRIAL`: Indica a qual segmento da indústria pertence o cliente\n",
    "        - `DOMINIO_EMAIL`: Indica o domínio (ou provedor) do email utilizado para o cadastro. \n",
    "        - `PORTE`: Indica o porte (tamanho) da empresa.\n",
    "        - `CEP_2DIG`: Indica os dois primeiros números do CEP do endereço cadastrados.\n",
    "\n",
    "3. **Base pagamentos** (`df_pagamentos` e `df_pagamentos_teste`):\n",
    "    * **Chaves estrangeiras (FK):** são as colunas que servem de referência para a Base Info e Base Cadastral\n",
    "        - `ID_CLIENTE`: Identificador único do cliente.\n",
    "        - `SAFRA_REF`: Mês de referência da amostra.\n",
    "    * **Outros atributos:**\n",
    "        - `DATA_EMISSAO_DOCUMENTO`: Data da emissão da nota de crédito.\n",
    "        - `DATA_VENCIMENTO`: Data limite para pagamento do empréstimo.\n",
    "        - `VALOR_A_PAGAR`: Valor da nota de crédito.\n",
    "        - `TAXA`: Taxa de jurso cobrada no empréstimo.\n",
    "        - `DATA_PAGAMENTO`: Data em que o cliente realizou o pagamento da nota. Disponível apenas na base de desenvolvimento (`df_pagamentos`).\n",
    "    * **Atributos a serem criados:**\n",
    "        - `INADIMPLENTE`: Indica se o cliente é inadimplente (1) ou não (0). Um cliente será considerado inadimplente quando a diferença entre as datas de vencimento e pagamento for maior ou igual a 5 dias.\n"
   ]
  },
  {
   "cell_type": "markdown",
   "metadata": {},
   "source": [
    "### Exploração inicial dos dados\n",
    "\n",
    "As bases disponibilizadas serão exploradas individualmente para depois serem unidas"
   ]
  },
  {
   "cell_type": "code",
   "execution_count": 4,
   "metadata": {},
   "outputs": [
    {
     "name": "stdout",
     "output_type": "stream",
     "text": [
      "Base Info\n"
     ]
    },
    {
     "data": {
      "text/html": [
       "<div>\n",
       "<style scoped>\n",
       "    .dataframe tbody tr th:only-of-type {\n",
       "        vertical-align: middle;\n",
       "    }\n",
       "\n",
       "    .dataframe tbody tr th {\n",
       "        vertical-align: top;\n",
       "    }\n",
       "\n",
       "    .dataframe thead th {\n",
       "        text-align: right;\n",
       "    }\n",
       "</style>\n",
       "<table border=\"1\" class=\"dataframe\">\n",
       "  <thead>\n",
       "    <tr style=\"text-align: right;\">\n",
       "      <th></th>\n",
       "      <th>ID_CLIENTE</th>\n",
       "      <th>SAFRA_REF</th>\n",
       "      <th>RENDA_MES_ANTERIOR</th>\n",
       "      <th>NO_FUNCIONARIOS</th>\n",
       "    </tr>\n",
       "  </thead>\n",
       "  <tbody>\n",
       "    <tr>\n",
       "      <th>0</th>\n",
       "      <td>1661240395903230676</td>\n",
       "      <td>2018-09</td>\n",
       "      <td>16913.0</td>\n",
       "      <td>92.0</td>\n",
       "    </tr>\n",
       "    <tr>\n",
       "      <th>1</th>\n",
       "      <td>8274986328479596038</td>\n",
       "      <td>2018-09</td>\n",
       "      <td>106430.0</td>\n",
       "      <td>141.0</td>\n",
       "    </tr>\n",
       "    <tr>\n",
       "      <th>2</th>\n",
       "      <td>345447888460137901</td>\n",
       "      <td>2018-09</td>\n",
       "      <td>707439.0</td>\n",
       "      <td>99.0</td>\n",
       "    </tr>\n",
       "  </tbody>\n",
       "</table>\n",
       "</div>"
      ],
      "text/plain": [
       "            ID_CLIENTE SAFRA_REF  RENDA_MES_ANTERIOR  NO_FUNCIONARIOS\n",
       "0  1661240395903230676   2018-09             16913.0             92.0\n",
       "1  8274986328479596038   2018-09            106430.0            141.0\n",
       "2   345447888460137901   2018-09            707439.0             99.0"
      ]
     },
     "metadata": {},
     "output_type": "display_data"
    },
    {
     "name": "stdout",
     "output_type": "stream",
     "text": [
      "Bases Pagamentos\n"
     ]
    },
    {
     "data": {
      "text/html": [
       "<div>\n",
       "<style scoped>\n",
       "    .dataframe tbody tr th:only-of-type {\n",
       "        vertical-align: middle;\n",
       "    }\n",
       "\n",
       "    .dataframe tbody tr th {\n",
       "        vertical-align: top;\n",
       "    }\n",
       "\n",
       "    .dataframe thead th {\n",
       "        text-align: right;\n",
       "    }\n",
       "</style>\n",
       "<table border=\"1\" class=\"dataframe\">\n",
       "  <thead>\n",
       "    <tr style=\"text-align: right;\">\n",
       "      <th></th>\n",
       "      <th>ID_CLIENTE</th>\n",
       "      <th>SAFRA_REF</th>\n",
       "      <th>DATA_EMISSAO_DOCUMENTO</th>\n",
       "      <th>DATA_PAGAMENTO</th>\n",
       "      <th>DATA_VENCIMENTO</th>\n",
       "      <th>VALOR_A_PAGAR</th>\n",
       "      <th>TAXA</th>\n",
       "    </tr>\n",
       "  </thead>\n",
       "  <tbody>\n",
       "    <tr>\n",
       "      <th>0</th>\n",
       "      <td>1661240395903230676</td>\n",
       "      <td>2018-08</td>\n",
       "      <td>2018-08-17</td>\n",
       "      <td>2018-09-06</td>\n",
       "      <td>2018-09-06</td>\n",
       "      <td>35516.41</td>\n",
       "      <td>6.99</td>\n",
       "    </tr>\n",
       "    <tr>\n",
       "      <th>1</th>\n",
       "      <td>1661240395903230676</td>\n",
       "      <td>2018-08</td>\n",
       "      <td>2018-08-19</td>\n",
       "      <td>2018-09-11</td>\n",
       "      <td>2018-09-10</td>\n",
       "      <td>17758.21</td>\n",
       "      <td>6.99</td>\n",
       "    </tr>\n",
       "    <tr>\n",
       "      <th>2</th>\n",
       "      <td>1661240395903230676</td>\n",
       "      <td>2018-08</td>\n",
       "      <td>2018-08-26</td>\n",
       "      <td>2018-09-18</td>\n",
       "      <td>2018-09-17</td>\n",
       "      <td>17431.96</td>\n",
       "      <td>6.99</td>\n",
       "    </tr>\n",
       "  </tbody>\n",
       "</table>\n",
       "</div>"
      ],
      "text/plain": [
       "            ID_CLIENTE SAFRA_REF DATA_EMISSAO_DOCUMENTO DATA_PAGAMENTO  \\\n",
       "0  1661240395903230676   2018-08             2018-08-17     2018-09-06   \n",
       "1  1661240395903230676   2018-08             2018-08-19     2018-09-11   \n",
       "2  1661240395903230676   2018-08             2018-08-26     2018-09-18   \n",
       "\n",
       "  DATA_VENCIMENTO  VALOR_A_PAGAR  TAXA  \n",
       "0      2018-09-06       35516.41  6.99  \n",
       "1      2018-09-10       17758.21  6.99  \n",
       "2      2018-09-17       17431.96  6.99  "
      ]
     },
     "metadata": {},
     "output_type": "display_data"
    },
    {
     "data": {
      "text/html": [
       "<div>\n",
       "<style scoped>\n",
       "    .dataframe tbody tr th:only-of-type {\n",
       "        vertical-align: middle;\n",
       "    }\n",
       "\n",
       "    .dataframe tbody tr th {\n",
       "        vertical-align: top;\n",
       "    }\n",
       "\n",
       "    .dataframe thead th {\n",
       "        text-align: right;\n",
       "    }\n",
       "</style>\n",
       "<table border=\"1\" class=\"dataframe\">\n",
       "  <thead>\n",
       "    <tr style=\"text-align: right;\">\n",
       "      <th></th>\n",
       "      <th>ID_CLIENTE</th>\n",
       "      <th>SAFRA_REF</th>\n",
       "      <th>DATA_EMISSAO_DOCUMENTO</th>\n",
       "      <th>DATA_VENCIMENTO</th>\n",
       "      <th>VALOR_A_PAGAR</th>\n",
       "      <th>TAXA</th>\n",
       "    </tr>\n",
       "  </thead>\n",
       "  <tbody>\n",
       "    <tr>\n",
       "      <th>0</th>\n",
       "      <td>5058298901476893676</td>\n",
       "      <td>2021-07</td>\n",
       "      <td>2021-07-14</td>\n",
       "      <td>2021-08-04</td>\n",
       "      <td>11204.75</td>\n",
       "      <td>4.99</td>\n",
       "    </tr>\n",
       "    <tr>\n",
       "      <th>1</th>\n",
       "      <td>274692171162531764</td>\n",
       "      <td>2021-07</td>\n",
       "      <td>2021-07-08</td>\n",
       "      <td>2021-08-23</td>\n",
       "      <td>60718.50</td>\n",
       "      <td>5.99</td>\n",
       "    </tr>\n",
       "    <tr>\n",
       "      <th>2</th>\n",
       "      <td>274692171162531764</td>\n",
       "      <td>2021-07</td>\n",
       "      <td>2021-07-11</td>\n",
       "      <td>2021-08-25</td>\n",
       "      <td>60718.50</td>\n",
       "      <td>5.99</td>\n",
       "    </tr>\n",
       "  </tbody>\n",
       "</table>\n",
       "</div>"
      ],
      "text/plain": [
       "            ID_CLIENTE SAFRA_REF DATA_EMISSAO_DOCUMENTO DATA_VENCIMENTO  \\\n",
       "0  5058298901476893676   2021-07             2021-07-14      2021-08-04   \n",
       "1   274692171162531764   2021-07             2021-07-08      2021-08-23   \n",
       "2   274692171162531764   2021-07             2021-07-11      2021-08-25   \n",
       "\n",
       "   VALOR_A_PAGAR  TAXA  \n",
       "0       11204.75  4.99  \n",
       "1       60718.50  5.99  \n",
       "2       60718.50  5.99  "
      ]
     },
     "metadata": {},
     "output_type": "display_data"
    },
    {
     "name": "stdout",
     "output_type": "stream",
     "text": [
      "Base Cadastral\n"
     ]
    },
    {
     "data": {
      "text/html": [
       "<div>\n",
       "<style scoped>\n",
       "    .dataframe tbody tr th:only-of-type {\n",
       "        vertical-align: middle;\n",
       "    }\n",
       "\n",
       "    .dataframe tbody tr th {\n",
       "        vertical-align: top;\n",
       "    }\n",
       "\n",
       "    .dataframe thead th {\n",
       "        text-align: right;\n",
       "    }\n",
       "</style>\n",
       "<table border=\"1\" class=\"dataframe\">\n",
       "  <thead>\n",
       "    <tr style=\"text-align: right;\">\n",
       "      <th></th>\n",
       "      <th>ID_CLIENTE</th>\n",
       "      <th>DATA_CADASTRO</th>\n",
       "      <th>DDD</th>\n",
       "      <th>FLAG_PF</th>\n",
       "      <th>SEGMENTO_INDUSTRIAL</th>\n",
       "      <th>DOMINIO_EMAIL</th>\n",
       "      <th>PORTE</th>\n",
       "      <th>CEP_2_DIG</th>\n",
       "    </tr>\n",
       "  </thead>\n",
       "  <tbody>\n",
       "    <tr>\n",
       "      <th>0</th>\n",
       "      <td>1661240395903230676</td>\n",
       "      <td>2013-08-22</td>\n",
       "      <td>99</td>\n",
       "      <td>NaN</td>\n",
       "      <td>Serviços</td>\n",
       "      <td>YAHOO</td>\n",
       "      <td>PEQUENO</td>\n",
       "      <td>65</td>\n",
       "    </tr>\n",
       "    <tr>\n",
       "      <th>1</th>\n",
       "      <td>8274986328479596038</td>\n",
       "      <td>2017-01-25</td>\n",
       "      <td>31</td>\n",
       "      <td>NaN</td>\n",
       "      <td>Comércio</td>\n",
       "      <td>YAHOO</td>\n",
       "      <td>MEDIO</td>\n",
       "      <td>77</td>\n",
       "    </tr>\n",
       "    <tr>\n",
       "      <th>2</th>\n",
       "      <td>345447888460137901</td>\n",
       "      <td>2000-08-15</td>\n",
       "      <td>75</td>\n",
       "      <td>NaN</td>\n",
       "      <td>Serviços</td>\n",
       "      <td>HOTMAIL</td>\n",
       "      <td>PEQUENO</td>\n",
       "      <td>48</td>\n",
       "    </tr>\n",
       "  </tbody>\n",
       "</table>\n",
       "</div>"
      ],
      "text/plain": [
       "            ID_CLIENTE DATA_CADASTRO DDD FLAG_PF SEGMENTO_INDUSTRIAL  \\\n",
       "0  1661240395903230676    2013-08-22  99     NaN            Serviços   \n",
       "1  8274986328479596038    2017-01-25  31     NaN            Comércio   \n",
       "2   345447888460137901    2000-08-15  75     NaN            Serviços   \n",
       "\n",
       "  DOMINIO_EMAIL    PORTE CEP_2_DIG  \n",
       "0         YAHOO  PEQUENO        65  \n",
       "1         YAHOO    MEDIO        77  \n",
       "2       HOTMAIL  PEQUENO        48  "
      ]
     },
     "metadata": {},
     "output_type": "display_data"
    }
   ],
   "source": [
    "# Ver as 3 primeiras linhas de cada dataframe\n",
    "print(\"Base Info\")\n",
    "display(df_info.head(3))\n",
    "print(\"Bases Pagamentos\")\n",
    "display(df_pagamentos.head(3))\n",
    "display(df_pagamentos_teste.head(3))\n",
    "print(\"Base Cadastral\")\n",
    "display(df_cadastral.head(3))"
   ]
  },
  {
   "cell_type": "markdown",
   "metadata": {},
   "source": [
    "É possível perceber que todas as colunas descritas estão presentes nas bases. Além disso, a coluna `DATA_EMISSAO_DOCUMENTO` parece ser desncessária, uma vez que a coluna `SAFRA_REF` já traz a informação sobre o mês de emissão do documento de crédito."
   ]
  },
  {
   "cell_type": "code",
   "execution_count": 5,
   "metadata": {},
   "outputs": [
    {
     "name": "stdout",
     "output_type": "stream",
     "text": [
      "Tamanho dos dataframes\n",
      "Base Info\n",
      "Entradas: 24401\n",
      "Variáveis: 4\n",
      "--------------------\n",
      "Bases Pagamentos\n",
      "Entradas: 77414\n",
      "Variáveis: 7\n",
      "--------------------\n",
      "Base Teste\n",
      "Entradas: 12275\n",
      "Variáveis: 6\n",
      "--------------------\n",
      "Base Cadastral\n",
      "Entradas: 1315\n",
      "Variáveis: 8\n"
     ]
    }
   ],
   "source": [
    "# Visualizar tamanho dos dataframes\n",
    "print(\"Tamanho dos dataframes\")\n",
    "print(\"Base Info\")\n",
    "print(f\"Entradas: {df_info.shape[0]}\")\n",
    "print(f\"Variáveis: {df_info.shape[1]}\")\n",
    "print(\"-\" * 20)\n",
    "\n",
    "print(\"Bases Pagamentos\")\n",
    "print(f\"Entradas: {df_pagamentos.shape[0]}\")\n",
    "print(f\"Variáveis: {df_pagamentos.shape[1]}\")\n",
    "print(\"-\" * 20)\n",
    "\n",
    "print(\"Base Teste\")\n",
    "print(f\"Entradas: {df_pagamentos_teste.shape[0]}\")\n",
    "print(f\"Variáveis: {df_pagamentos_teste.shape[1]}\")\n",
    "print(\"-\" * 20)\n",
    "\n",
    "print(\"Base Cadastral\")\n",
    "print(f\"Entradas: {df_cadastral.shape[0]}\")\n",
    "print(f\"Variáveis: {df_cadastral.shape[1]}\")"
   ]
  },
  {
   "cell_type": "code",
   "execution_count": 6,
   "metadata": {},
   "outputs": [
    {
     "name": "stdout",
     "output_type": "stream",
     "text": [
      "Tipos de variáveis para base info\n",
      "ID_CLIENTE              int64\n",
      "SAFRA_REF              object\n",
      "RENDA_MES_ANTERIOR    float64\n",
      "NO_FUNCIONARIOS       float64\n",
      "dtype: object\n"
     ]
    }
   ],
   "source": [
    "# Tipos de variáveis para base info\n",
    "print(\"Tipos de variáveis para base info\")\n",
    "print(df_info.dtypes)"
   ]
  },
  {
   "cell_type": "code",
   "execution_count": 7,
   "metadata": {},
   "outputs": [
    {
     "name": "stdout",
     "output_type": "stream",
     "text": [
      "Tipos de variáveis para base pagamentos\n",
      "ID_CLIENTE                  int64\n",
      "SAFRA_REF                  object\n",
      "DATA_EMISSAO_DOCUMENTO     object\n",
      "DATA_PAGAMENTO             object\n",
      "DATA_VENCIMENTO            object\n",
      "VALOR_A_PAGAR             float64\n",
      "TAXA                      float64\n",
      "dtype: object\n"
     ]
    }
   ],
   "source": [
    "# Tipos de variáveis para base pagamentos\n",
    "print(\"Tipos de variáveis para base pagamentos\")\n",
    "print(df_pagamentos.dtypes)"
   ]
  },
  {
   "cell_type": "markdown",
   "metadata": {},
   "source": [
    "As colunas ``DATA_EMISSAO_DOCUMENTO``, ``DATA_PAGAMENTO`` e ``DATA_VENCIMENTO`` estão em formato de texto e deverão ser transformadas em formato de data"
   ]
  },
  {
   "cell_type": "code",
   "execution_count": 8,
   "metadata": {},
   "outputs": [
    {
     "name": "stdout",
     "output_type": "stream",
     "text": [
      "Tipos de variáveis para base teste\n",
      "ID_CLIENTE                  int64\n",
      "SAFRA_REF                  object\n",
      "DATA_EMISSAO_DOCUMENTO     object\n",
      "DATA_VENCIMENTO            object\n",
      "VALOR_A_PAGAR             float64\n",
      "TAXA                      float64\n",
      "dtype: object\n"
     ]
    }
   ],
   "source": [
    "# Tipos de variáveis para base teste\n",
    "print(\"Tipos de variáveis para base teste\")\n",
    "print(df_pagamentos_teste.dtypes)"
   ]
  },
  {
   "cell_type": "code",
   "execution_count": 9,
   "metadata": {},
   "outputs": [
    {
     "name": "stdout",
     "output_type": "stream",
     "text": [
      "Tipos de variáveis para base cadastral\n",
      "ID_CLIENTE              int64\n",
      "DATA_CADASTRO          object\n",
      "DDD                    object\n",
      "FLAG_PF                object\n",
      "SEGMENTO_INDUSTRIAL    object\n",
      "DOMINIO_EMAIL          object\n",
      "PORTE                  object\n",
      "CEP_2_DIG              object\n",
      "dtype: object\n"
     ]
    }
   ],
   "source": [
    "# Tipos de variáveis para base cadastral\n",
    "print(\"Tipos de variáveis para base cadastral\")\n",
    "print(df_cadastral.dtypes)"
   ]
  },
  {
   "cell_type": "code",
   "execution_count": 10,
   "metadata": {},
   "outputs": [
    {
     "name": "stdout",
     "output_type": "stream",
     "text": [
      "Número de IDs únicos na base cadastral\n",
      "1315\n",
      "Número de registros na base cadastral\n",
      "1315\n"
     ]
    }
   ],
   "source": [
    "# Verificar se cada id tem apenas um registro na base\n",
    "print(\"Número de IDs únicos na base cadastral\")\n",
    "print(df_cadastral[\"ID_CLIENTE\"].nunique())\n",
    "print(\"Número de registros na base cadastral\")\n",
    "print(df_cadastral.shape[0])"
   ]
  },
  {
   "cell_type": "markdown",
   "metadata": {},
   "source": [
    "O fato de a coluna `DDD` não ser numérica pode indicar que há alguma inconsistência nas entradas dessa coluna"
   ]
  },
  {
   "cell_type": "code",
   "execution_count": 11,
   "metadata": {},
   "outputs": [
    {
     "data": {
      "text/plain": [
       "array(['99', '31', '75', '49', '88', '18', '67', '21', '11', '44', nan,\n",
       "       '19', '14', '16', '85', '41', '51', '12', '62', '43', '91', '42',\n",
       "       '61', '33', '48', '71', '65', '38', '24', '(3', '47', '28', '(2',\n",
       "       '81', '35', '13', '86', '94', '45', '17', '55', '64', '69', '32',\n",
       "       '(6', '27', '66', '63', '46', '(1', '54', '77', '34', '74', '37',\n",
       "       '53', '56', '95', '22', '73', '(9', '(4', '52', '87', '98', '(8',\n",
       "       '92', '82', '79', '93', '83', '00', '(5', '15', '02', '84', '(0',\n",
       "       '04', '07', '(7'], dtype=object)"
      ]
     },
     "execution_count": 11,
     "metadata": {},
     "output_type": "execute_result"
    }
   ],
   "source": [
    "unique_ddd = df_cadastral[\"DDD\"].unique()\n",
    "unique_ddd"
   ]
  },
  {
   "cell_type": "markdown",
   "metadata": {},
   "source": [
    "De fato há valores fornecidos para a variável `DDD` que não são válidos. Como a variável `DDD` seria representativa apenas para localizacão do cliente e já temos a coluna `CEP` com dois dígitos, que representam a região e subregião de acordo com os [Correios](https://www.correios.com.br/enviar/precisa-de-ajuda/imagens/tudo-sobre-cep/cep-desktop), essa coluna pode ser utilizada como localizador do cliente, caso seja necessário.\n",
    "\n",
    "Por isso, não trateremos as inconsistências da coluna `DDD` da base cadastral."
   ]
  },
  {
   "cell_type": "code",
   "execution_count": 12,
   "metadata": {},
   "outputs": [
    {
     "name": "stdout",
     "output_type": "stream",
     "text": [
      "Porcentagem de valores faltantes ou nulos para base info\n",
      "ID_CLIENTE            0.0\n",
      "SAFRA_REF             0.0\n",
      "RENDA_MES_ANTERIOR    0.0\n",
      "NO_FUNCIONARIOS       0.0\n",
      "dtype: float64\n"
     ]
    }
   ],
   "source": [
    "# Porcentagem de valores faltantes ou nulos\n",
    "print(\"Porcentagem de valores faltantes ou nulos para base info\")\n",
    "print((df_info.isnull().sum() / df_info.shape[0] * 100).round(2))"
   ]
  },
  {
   "cell_type": "code",
   "execution_count": 13,
   "metadata": {},
   "outputs": [
    {
     "name": "stdout",
     "output_type": "stream",
     "text": [
      "Porcentagem de valores faltantes ou nulos para base pagamentos\n",
      "ID_CLIENTE                0.0\n",
      "SAFRA_REF                 0.0\n",
      "DATA_EMISSAO_DOCUMENTO    0.0\n",
      "DATA_PAGAMENTO            0.0\n",
      "DATA_VENCIMENTO           0.0\n",
      "VALOR_A_PAGAR             0.0\n",
      "TAXA                      0.0\n",
      "dtype: float64\n"
     ]
    }
   ],
   "source": [
    "print(\"Porcentagem de valores faltantes ou nulos para base pagamentos\")\n",
    "print((df_pagamentos.isnull().sum() / df_pagamentos.shape[0] * 100).round(2))"
   ]
  },
  {
   "cell_type": "code",
   "execution_count": 14,
   "metadata": {},
   "outputs": [
    {
     "name": "stdout",
     "output_type": "stream",
     "text": [
      "Porcentagem de valores faltantes ou nulos para base teste\n",
      "ID_CLIENTE                0.0\n",
      "SAFRA_REF                 0.0\n",
      "DATA_EMISSAO_DOCUMENTO    0.0\n",
      "DATA_VENCIMENTO           0.0\n",
      "VALOR_A_PAGAR             0.0\n",
      "TAXA                      0.0\n",
      "dtype: float64\n"
     ]
    }
   ],
   "source": [
    "print(\"Porcentagem de valores faltantes ou nulos para base teste\")\n",
    "print(\n",
    "    (df_pagamentos_teste.isnull().sum() / df_pagamentos_teste.shape[0] * 100).round(2)\n",
    ")"
   ]
  },
  {
   "cell_type": "code",
   "execution_count": 15,
   "metadata": {},
   "outputs": [
    {
     "name": "stdout",
     "output_type": "stream",
     "text": [
      "Porcentagem de valores faltantes ou nulos para base cadastral\n",
      "ID_CLIENTE              0.00\n",
      "DATA_CADASTRO           0.00\n",
      "DDD                    18.02\n",
      "FLAG_PF                94.98\n",
      "SEGMENTO_INDUSTRIAL     6.31\n",
      "DOMINIO_EMAIL           2.28\n",
      "PORTE                   3.12\n",
      "CEP_2_DIG               0.00\n",
      "dtype: float64\n"
     ]
    }
   ],
   "source": [
    "print(\"Porcentagem de valores faltantes ou nulos para base cadastral\")\n",
    "print((df_cadastral.isnull().sum() / df_cadastral.shape[0] * 100).round(2))"
   ]
  },
  {
   "cell_type": "markdown",
   "metadata": {},
   "source": [
    "A coluna `FLAG_PF` da base cadastral contém 94,98% de valores nulos. O nulo, como indicado no dicionário de variáveis, indica que o registro na base é referente a uma pessoa jurídica. As outras colunas, como `SEGMENTO_INDUSTRIAL` podem ter relação com a coluna `FLAG_PF` uma vez que não faria sentido registrar o segmento industrial de uma pessoa física.\n",
    "\n",
    "Vamos analisá-las a seguir."
   ]
  },
  {
   "cell_type": "code",
   "execution_count": 16,
   "metadata": {},
   "outputs": [
    {
     "data": {
      "text/plain": [
       "FLAG_PF\n",
       "X      66\n",
       "NaN    17\n",
       "Name: count, dtype: int64"
      ]
     },
     "execution_count": 16,
     "metadata": {},
     "output_type": "execute_result"
    }
   ],
   "source": [
    "# Verificar se os valores nulos de segmento industrial são de pessoas físicas ou jurídicas\n",
    "df_cadastral[(df_cadastral[\"SEGMENTO_INDUSTRIAL\"].isnull())][\"FLAG_PF\"].value_counts(\n",
    "    dropna=False\n",
    ")"
   ]
  },
  {
   "cell_type": "code",
   "execution_count": 17,
   "metadata": {},
   "outputs": [
    {
     "data": {
      "text/plain": [
       "array(['Serviços', 'Comércio', 'Indústria', nan], dtype=object)"
      ]
     },
     "execution_count": 17,
     "metadata": {},
     "output_type": "execute_result"
    }
   ],
   "source": [
    "df_cadastral[\"SEGMENTO_INDUSTRIAL\"].unique()"
   ]
  },
  {
   "cell_type": "markdown",
   "metadata": {},
   "source": [
    "A exploração acima mostra que das aparições nulas da coluna `SEGMENTO_INDUSTRIAL`, 66 casos são de pessoas físicas, que representam todos os registros de pessoas físicas, o que faz sentido, uma vez que segmento industrial é uma informação que não faz sentido para pessoas físicas. Nesses registros, os valores nulos serão imputados com o valor -1.\n",
    "\n",
    "Para os 17 casos restantes, vamos considerar que o segmento industrial da empresa cadastrada não se encaixa nas três possibilidades fornecidas e associaremos a \"Outro\"."
   ]
  },
  {
   "cell_type": "code",
   "execution_count": 18,
   "metadata": {},
   "outputs": [
    {
     "data": {
      "text/plain": [
       "FLAG_PF\n",
       "NaN    39\n",
       "X       2\n",
       "Name: count, dtype: int64"
      ]
     },
     "execution_count": 18,
     "metadata": {},
     "output_type": "execute_result"
    }
   ],
   "source": [
    "# Verificar se os valores nulos de porte são de pessoas físicas ou jurídicas\n",
    "df_cadastral[(df_cadastral[\"PORTE\"].isnull())][\"FLAG_PF\"].value_counts(dropna=False)"
   ]
  },
  {
   "cell_type": "markdown",
   "metadata": {},
   "source": [
    "Como os valores nulos da coluna `PORTE` não são apenas de pessoas físicas, será necessário pensar em uma estratégia de como tratá-los antes de passar essa informação para o modelo."
   ]
  },
  {
   "cell_type": "code",
   "execution_count": null,
   "metadata": {},
   "outputs": [
    {
     "data": {
      "text/plain": [
       "SEGMENTO_INDUSTRIAL  PORTE  \n",
       "Comércio             GRANDE     170\n",
       "                     MEDIO      163\n",
       "                     PEQUENO     81\n",
       "                     NaN         17\n",
       "Indústria            MEDIO      133\n",
       "                     GRANDE      96\n",
       "                     PEQUENO     60\n",
       "                     NaN          9\n",
       "Serviços             MEDIO      197\n",
       "                     GRANDE     181\n",
       "                     PEQUENO    113\n",
       "                     NaN         12\n",
       "Name: count, dtype: int64"
      ]
     },
     "execution_count": 19,
     "metadata": {},
     "output_type": "execute_result"
    }
   ],
   "source": [
    "# Avaliar a distribuição de porte por segmento industrial\n",
    "df_cadastral.groupby([\"SEGMENTO_INDUSTRIAL\"])[\"PORTE\"].value_counts(dropna=False)"
   ]
  },
  {
   "cell_type": "markdown",
   "metadata": {},
   "source": [
    "Pelas distribuições apresentadas acima, inputar a moda do segmento do cliente pode ser uma boa saída para tratar os dados faltantes. Essa inputação deve, no entanto, ser realizada somente depois da separação dos conjuntos de treino, teste e validação, para evitar vazamento de dados."
   ]
  },
  {
   "cell_type": "markdown",
   "metadata": {},
   "source": [
    "### Conclusões\n",
    "\n",
    "Com base na exploração inicial, conclui-se que serão necessárias as seguintes alterações nas colunas abaixo:\n",
    "\n",
    "- Criação da coluna `INADIMPLENTE`na base pagamentos. Terá valor `TRUE` se o pagamento foi realizado 5 ou mais dias depois da data de vencimento.\n",
    "- Remoção da coluna `DDD` da base cadastral. A informação de localização, para a qual esse atributo poderia ser utilizado como *proxy*, também pode ser obtida a partir dos 2 primeiros dígitos do CEP\n",
    "- Remoção da coluna `DOMINIO_EMAIL`. A informação não parece ter valor preditivo na tarefa final.\n",
    "- Adição de entrada \"Outro\" nos valores faltantes da coluna `SEGMENTO_INDUSTRIAL` caso a entrada seja de pessoa jurídica e do valor -1 caso a entrada seja de pessoa física.\n",
    "- Inputação da moda por segmento da indústria nos dados faltantes da coluna `PORTE`. <mark>Essa transformação será realizada apenas após a separação dos conjuntos de treinamento</mark>."
   ]
  },
  {
   "cell_type": "markdown",
   "metadata": {},
   "source": [
    "### Pré-processamento\n",
    "\n",
    "Para realização de análises univariadas e bivariadas, será necessário tratar os pontos levantados ao longo da seção anterior."
   ]
  },
  {
   "cell_type": "code",
   "execution_count": 20,
   "metadata": {},
   "outputs": [],
   "source": [
    "# Transformar colunas com datas em datetime\n",
    "df_pagamentos[[\"DATA_EMISSAO_DOCUMENTO\", \"DATA_VENCIMENTO\", \"DATA_PAGAMENTO\"]] = (\n",
    "    df_pagamentos[\n",
    "        [\"DATA_EMISSAO_DOCUMENTO\", \"DATA_VENCIMENTO\", \"DATA_PAGAMENTO\"]\n",
    "    ].apply(pd.to_datetime)\n",
    ")\n",
    "\n",
    "# Criar coluna com a diferença entre a data de vencimento e a data de pagamento\n",
    "df_pagamentos[\"DIFERENCA_DIAS\"] = (\n",
    "    df_pagamentos[\"DATA_PAGAMENTO\"] - df_pagamentos[\"DATA_VENCIMENTO\"]\n",
    ").dt.days\n",
    "\n",
    "# Criar coluna de inadimplência (DIFERENCA_DIAS > 5)\n",
    "df_pagamentos[\"INADIMPLENTE\"] = df_pagamentos[\"DIFERENCA_DIAS\"] > 5"
   ]
  },
  {
   "cell_type": "code",
   "execution_count": 21,
   "metadata": {},
   "outputs": [
    {
     "data": {
      "text/html": [
       "<div>\n",
       "<style scoped>\n",
       "    .dataframe tbody tr th:only-of-type {\n",
       "        vertical-align: middle;\n",
       "    }\n",
       "\n",
       "    .dataframe tbody tr th {\n",
       "        vertical-align: top;\n",
       "    }\n",
       "\n",
       "    .dataframe thead th {\n",
       "        text-align: right;\n",
       "    }\n",
       "</style>\n",
       "<table border=\"1\" class=\"dataframe\">\n",
       "  <thead>\n",
       "    <tr style=\"text-align: right;\">\n",
       "      <th></th>\n",
       "      <th>ID_CLIENTE</th>\n",
       "      <th>SAFRA_REF</th>\n",
       "      <th>DATA_EMISSAO_DOCUMENTO</th>\n",
       "      <th>DATA_PAGAMENTO</th>\n",
       "      <th>DATA_VENCIMENTO</th>\n",
       "      <th>VALOR_A_PAGAR</th>\n",
       "      <th>TAXA</th>\n",
       "      <th>DIFERENCA_DIAS</th>\n",
       "      <th>INADIMPLENTE</th>\n",
       "    </tr>\n",
       "  </thead>\n",
       "  <tbody>\n",
       "    <tr>\n",
       "      <th>0</th>\n",
       "      <td>1661240395903230676</td>\n",
       "      <td>2018-08</td>\n",
       "      <td>2018-08-17</td>\n",
       "      <td>2018-09-06</td>\n",
       "      <td>2018-09-06</td>\n",
       "      <td>35516.41</td>\n",
       "      <td>6.99</td>\n",
       "      <td>0</td>\n",
       "      <td>False</td>\n",
       "    </tr>\n",
       "    <tr>\n",
       "      <th>1</th>\n",
       "      <td>1661240395903230676</td>\n",
       "      <td>2018-08</td>\n",
       "      <td>2018-08-19</td>\n",
       "      <td>2018-09-11</td>\n",
       "      <td>2018-09-10</td>\n",
       "      <td>17758.21</td>\n",
       "      <td>6.99</td>\n",
       "      <td>1</td>\n",
       "      <td>False</td>\n",
       "    </tr>\n",
       "    <tr>\n",
       "      <th>2</th>\n",
       "      <td>1661240395903230676</td>\n",
       "      <td>2018-08</td>\n",
       "      <td>2018-08-26</td>\n",
       "      <td>2018-09-18</td>\n",
       "      <td>2018-09-17</td>\n",
       "      <td>17431.96</td>\n",
       "      <td>6.99</td>\n",
       "      <td>1</td>\n",
       "      <td>False</td>\n",
       "    </tr>\n",
       "  </tbody>\n",
       "</table>\n",
       "</div>"
      ],
      "text/plain": [
       "            ID_CLIENTE SAFRA_REF DATA_EMISSAO_DOCUMENTO DATA_PAGAMENTO  \\\n",
       "0  1661240395903230676   2018-08             2018-08-17     2018-09-06   \n",
       "1  1661240395903230676   2018-08             2018-08-19     2018-09-11   \n",
       "2  1661240395903230676   2018-08             2018-08-26     2018-09-18   \n",
       "\n",
       "  DATA_VENCIMENTO  VALOR_A_PAGAR  TAXA  DIFERENCA_DIAS  INADIMPLENTE  \n",
       "0      2018-09-06       35516.41  6.99               0         False  \n",
       "1      2018-09-10       17758.21  6.99               1         False  \n",
       "2      2018-09-17       17431.96  6.99               1         False  "
      ]
     },
     "execution_count": 21,
     "metadata": {},
     "output_type": "execute_result"
    }
   ],
   "source": [
    "df_pagamentos.head(3)"
   ]
  },
  {
   "cell_type": "code",
   "execution_count": 22,
   "metadata": {},
   "outputs": [],
   "source": [
    "df_pagamentos_teste[[\"DATA_EMISSAO_DOCUMENTO\", \"DATA_VENCIMENTO\"]] = (\n",
    "    df_pagamentos_teste[\n",
    "        [\"DATA_EMISSAO_DOCUMENTO\", \"DATA_VENCIMENTO\"]\n",
    "    ].apply(pd.to_datetime)\n",
    ")"
   ]
  },
  {
   "cell_type": "code",
   "execution_count": 23,
   "metadata": {},
   "outputs": [
    {
     "data": {
      "text/html": [
       "<div>\n",
       "<style scoped>\n",
       "    .dataframe tbody tr th:only-of-type {\n",
       "        vertical-align: middle;\n",
       "    }\n",
       "\n",
       "    .dataframe tbody tr th {\n",
       "        vertical-align: top;\n",
       "    }\n",
       "\n",
       "    .dataframe thead th {\n",
       "        text-align: right;\n",
       "    }\n",
       "</style>\n",
       "<table border=\"1\" class=\"dataframe\">\n",
       "  <thead>\n",
       "    <tr style=\"text-align: right;\">\n",
       "      <th></th>\n",
       "      <th>ID_CLIENTE</th>\n",
       "      <th>DATA_CADASTRO</th>\n",
       "      <th>FLAG_PF</th>\n",
       "      <th>SEGMENTO_INDUSTRIAL</th>\n",
       "      <th>PORTE</th>\n",
       "      <th>CEP_2_DIG</th>\n",
       "    </tr>\n",
       "  </thead>\n",
       "  <tbody>\n",
       "    <tr>\n",
       "      <th>0</th>\n",
       "      <td>1661240395903230676</td>\n",
       "      <td>2013-08-22</td>\n",
       "      <td>0.0</td>\n",
       "      <td>Serviços</td>\n",
       "      <td>PEQUENO</td>\n",
       "      <td>65</td>\n",
       "    </tr>\n",
       "    <tr>\n",
       "      <th>1</th>\n",
       "      <td>8274986328479596038</td>\n",
       "      <td>2017-01-25</td>\n",
       "      <td>0.0</td>\n",
       "      <td>Comércio</td>\n",
       "      <td>MEDIO</td>\n",
       "      <td>77</td>\n",
       "    </tr>\n",
       "    <tr>\n",
       "      <th>2</th>\n",
       "      <td>345447888460137901</td>\n",
       "      <td>2000-08-15</td>\n",
       "      <td>0.0</td>\n",
       "      <td>Serviços</td>\n",
       "      <td>PEQUENO</td>\n",
       "      <td>48</td>\n",
       "    </tr>\n",
       "    <tr>\n",
       "      <th>3</th>\n",
       "      <td>1003144834589372198</td>\n",
       "      <td>2017-08-06</td>\n",
       "      <td>0.0</td>\n",
       "      <td>Serviços</td>\n",
       "      <td>PEQUENO</td>\n",
       "      <td>89</td>\n",
       "    </tr>\n",
       "    <tr>\n",
       "      <th>4</th>\n",
       "      <td>324916756972236008</td>\n",
       "      <td>2011-02-14</td>\n",
       "      <td>0.0</td>\n",
       "      <td>Serviços</td>\n",
       "      <td>GRANDE</td>\n",
       "      <td>62</td>\n",
       "    </tr>\n",
       "  </tbody>\n",
       "</table>\n",
       "</div>"
      ],
      "text/plain": [
       "            ID_CLIENTE DATA_CADASTRO  FLAG_PF SEGMENTO_INDUSTRIAL    PORTE  \\\n",
       "0  1661240395903230676    2013-08-22      0.0            Serviços  PEQUENO   \n",
       "1  8274986328479596038    2017-01-25      0.0            Comércio    MEDIO   \n",
       "2   345447888460137901    2000-08-15      0.0            Serviços  PEQUENO   \n",
       "3  1003144834589372198    2017-08-06      0.0            Serviços  PEQUENO   \n",
       "4   324916756972236008    2011-02-14      0.0            Serviços   GRANDE   \n",
       "\n",
       "  CEP_2_DIG  \n",
       "0        65  \n",
       "1        77  \n",
       "2        48  \n",
       "3        89  \n",
       "4        62  "
      ]
     },
     "execution_count": 23,
     "metadata": {},
     "output_type": "execute_result"
    }
   ],
   "source": [
    "# Substituir \"X\" por 1 e preencher valores nulos com 0 na coluna FLAG_PF\n",
    "df_cadastral[\"FLAG_PF\"] = df_cadastral[\"FLAG_PF\"].map({\"X\": 1})\n",
    "df_cadastral[\"FLAG_PF\"] = df_cadastral[\"FLAG_PF\"].fillna(0)\n",
    "\n",
    "# Remover coluna DDD\n",
    "df_cadastral = df_cadastral.drop(\"DDD\", axis=1)\n",
    "# Remover coluna DOMINIO_EMAIL\n",
    "df_cadastral = df_cadastral.drop(\"DOMINIO_EMAIL\", axis=1)\n",
    "\n",
    "# Adicionar classe Outros para valores nulos em SEGMENTO_INDUSTRIAL de pessoas júridicas\n",
    "df_cadastral.loc[\n",
    "    (df_cadastral[\"SEGMENTO_INDUSTRIAL\"].isnull()) & (df_cadastral[\"FLAG_PF\"] == 0),\n",
    "    \"SEGMENTO_INDUSTRIAL\",\n",
    "] = \"Outro\"\n",
    "\n",
    "# Adicionar classe -1 para valores nulos em SEGMENTO_INDUSTRIAL de pessoas físicas\n",
    "df_cadastral.loc[\n",
    "    (df_cadastral[\"SEGMENTO_INDUSTRIAL\"].isnull()) & (df_cadastral[\"FLAG_PF\"] == 1),\n",
    "    \"SEGMENTO_INDUSTRIAL\",\n",
    "] = -1\n",
    "\n",
    "df_cadastral.head()"
   ]
  },
  {
   "cell_type": "code",
   "execution_count": 24,
   "metadata": {},
   "outputs": [
    {
     "data": {
      "text/plain": [
       "ID_CLIENTE              0\n",
       "DATA_CADASTRO           0\n",
       "FLAG_PF                 0\n",
       "SEGMENTO_INDUSTRIAL     0\n",
       "PORTE                  41\n",
       "CEP_2_DIG               0\n",
       "dtype: int64"
      ]
     },
     "execution_count": 24,
     "metadata": {},
     "output_type": "execute_result"
    }
   ],
   "source": [
    "df_cadastral.isna().sum()"
   ]
  },
  {
   "cell_type": "markdown",
   "metadata": {},
   "source": [
    "Resolvidas as inconsistências de `df_cadastral`, vamos juntar as bases de dados em um único dataframe.\n",
    "\n",
    "A união dos dataframes se dará da seguinte forma:\n",
    "1. Left join* de `df_pagamentos` com `df_cadastral`. Resultando na versão parcial de `df_modelagem`.\n",
    "2. Left join* de `df_modelagem` com `df_info`. Resultando na versão completa de `df_modelagem`.\n",
    "\n",
    "Para a união se utilizará a função `pandas.merge()` na coluna `ID_CLIENTE` para a etapa 1. e nas colunas `ID_CLIENTE` e `SAFRA_REF` na etapa 2.\n",
    "\n",
    "\n",
    "\\*A left join retorna todas as entradas do primeiro dataframe e apenas as entradas em que há *match* na(s) coluna(s) chave do segundo dataframe.\n",
    "\n",
    "No conjunto de teste, serão realizadas as mesmas uniões, substituindo o `df_pagamentos` pelo `df_pagamentos_teste`. Essas etapas resultarão no dataframe `df_teste`,"
   ]
  },
  {
   "cell_type": "code",
   "execution_count": 25,
   "metadata": {},
   "outputs": [],
   "source": [
    "# Une df_pagamentos com df_cadastral\n",
    "df_modelagem = pd.merge(\n",
    "    df_pagamentos,\n",
    "    df_cadastral,\n",
    "    on=\"ID_CLIENTE\",\n",
    "    how=\"left\",\n",
    "    suffixes=(\"\", \"_cadastral\"),\n",
    ")\n",
    "\n",
    "# Une df_modelagem com df_info\n",
    "df_modelagem = pd.merge(\n",
    "    df_modelagem,\n",
    "    df_info,\n",
    "    on=[\"ID_CLIENTE\", \"SAFRA_REF\"],\n",
    "    how=\"left\",\n",
    "    suffixes=(\"\", \"_info\"),\n",
    ")"
   ]
  },
  {
   "cell_type": "code",
   "execution_count": 26,
   "metadata": {},
   "outputs": [],
   "source": [
    "df_teste = pd.merge(\n",
    "    df_pagamentos_teste,\n",
    "    df_cadastral,\n",
    "    on=\"ID_CLIENTE\",\n",
    "    how=\"left\",\n",
    "    suffixes=(\"\", \"_cadastral\"),\n",
    ")\n",
    "\n",
    "df_teste = pd.merge(\n",
    "    df_teste,\n",
    "    df_info,\n",
    "    on=[\"ID_CLIENTE\", \"SAFRA_REF\"],\n",
    "    how=\"left\",\n",
    "    suffixes=(\"\", \"_info\"),\n",
    ")"
   ]
  },
  {
   "cell_type": "code",
   "execution_count": 27,
   "metadata": {},
   "outputs": [
    {
     "data": {
      "text/html": [
       "<div>\n",
       "<style scoped>\n",
       "    .dataframe tbody tr th:only-of-type {\n",
       "        vertical-align: middle;\n",
       "    }\n",
       "\n",
       "    .dataframe tbody tr th {\n",
       "        vertical-align: top;\n",
       "    }\n",
       "\n",
       "    .dataframe thead th {\n",
       "        text-align: right;\n",
       "    }\n",
       "</style>\n",
       "<table border=\"1\" class=\"dataframe\">\n",
       "  <thead>\n",
       "    <tr style=\"text-align: right;\">\n",
       "      <th></th>\n",
       "      <th>ID_CLIENTE</th>\n",
       "      <th>SAFRA_REF</th>\n",
       "      <th>DATA_EMISSAO_DOCUMENTO</th>\n",
       "      <th>DATA_PAGAMENTO</th>\n",
       "      <th>DATA_VENCIMENTO</th>\n",
       "      <th>VALOR_A_PAGAR</th>\n",
       "      <th>TAXA</th>\n",
       "      <th>DIFERENCA_DIAS</th>\n",
       "      <th>INADIMPLENTE</th>\n",
       "      <th>DATA_CADASTRO</th>\n",
       "      <th>FLAG_PF</th>\n",
       "      <th>SEGMENTO_INDUSTRIAL</th>\n",
       "      <th>PORTE</th>\n",
       "      <th>CEP_2_DIG</th>\n",
       "      <th>RENDA_MES_ANTERIOR</th>\n",
       "      <th>NO_FUNCIONARIOS</th>\n",
       "    </tr>\n",
       "  </thead>\n",
       "  <tbody>\n",
       "    <tr>\n",
       "      <th>0</th>\n",
       "      <td>1661240395903230676</td>\n",
       "      <td>2018-08</td>\n",
       "      <td>2018-08-17</td>\n",
       "      <td>2018-09-06</td>\n",
       "      <td>2018-09-06</td>\n",
       "      <td>35516.41</td>\n",
       "      <td>6.99</td>\n",
       "      <td>0</td>\n",
       "      <td>False</td>\n",
       "      <td>2013-08-22</td>\n",
       "      <td>0.0</td>\n",
       "      <td>Serviços</td>\n",
       "      <td>PEQUENO</td>\n",
       "      <td>65</td>\n",
       "      <td>NaN</td>\n",
       "      <td>NaN</td>\n",
       "    </tr>\n",
       "    <tr>\n",
       "      <th>1</th>\n",
       "      <td>1661240395903230676</td>\n",
       "      <td>2018-08</td>\n",
       "      <td>2018-08-19</td>\n",
       "      <td>2018-09-11</td>\n",
       "      <td>2018-09-10</td>\n",
       "      <td>17758.21</td>\n",
       "      <td>6.99</td>\n",
       "      <td>1</td>\n",
       "      <td>False</td>\n",
       "      <td>2013-08-22</td>\n",
       "      <td>0.0</td>\n",
       "      <td>Serviços</td>\n",
       "      <td>PEQUENO</td>\n",
       "      <td>65</td>\n",
       "      <td>NaN</td>\n",
       "      <td>NaN</td>\n",
       "    </tr>\n",
       "    <tr>\n",
       "      <th>2</th>\n",
       "      <td>1661240395903230676</td>\n",
       "      <td>2018-08</td>\n",
       "      <td>2018-08-26</td>\n",
       "      <td>2018-09-18</td>\n",
       "      <td>2018-09-17</td>\n",
       "      <td>17431.96</td>\n",
       "      <td>6.99</td>\n",
       "      <td>1</td>\n",
       "      <td>False</td>\n",
       "      <td>2013-08-22</td>\n",
       "      <td>0.0</td>\n",
       "      <td>Serviços</td>\n",
       "      <td>PEQUENO</td>\n",
       "      <td>65</td>\n",
       "      <td>NaN</td>\n",
       "      <td>NaN</td>\n",
       "    </tr>\n",
       "    <tr>\n",
       "      <th>3</th>\n",
       "      <td>1661240395903230676</td>\n",
       "      <td>2018-08</td>\n",
       "      <td>2018-08-30</td>\n",
       "      <td>2018-10-11</td>\n",
       "      <td>2018-10-05</td>\n",
       "      <td>1341.00</td>\n",
       "      <td>6.99</td>\n",
       "      <td>6</td>\n",
       "      <td>True</td>\n",
       "      <td>2013-08-22</td>\n",
       "      <td>0.0</td>\n",
       "      <td>Serviços</td>\n",
       "      <td>PEQUENO</td>\n",
       "      <td>65</td>\n",
       "      <td>NaN</td>\n",
       "      <td>NaN</td>\n",
       "    </tr>\n",
       "    <tr>\n",
       "      <th>4</th>\n",
       "      <td>1661240395903230676</td>\n",
       "      <td>2018-08</td>\n",
       "      <td>2018-08-31</td>\n",
       "      <td>2018-09-20</td>\n",
       "      <td>2018-09-20</td>\n",
       "      <td>21309.85</td>\n",
       "      <td>6.99</td>\n",
       "      <td>0</td>\n",
       "      <td>False</td>\n",
       "      <td>2013-08-22</td>\n",
       "      <td>0.0</td>\n",
       "      <td>Serviços</td>\n",
       "      <td>PEQUENO</td>\n",
       "      <td>65</td>\n",
       "      <td>NaN</td>\n",
       "      <td>NaN</td>\n",
       "    </tr>\n",
       "  </tbody>\n",
       "</table>\n",
       "</div>"
      ],
      "text/plain": [
       "            ID_CLIENTE SAFRA_REF DATA_EMISSAO_DOCUMENTO DATA_PAGAMENTO  \\\n",
       "0  1661240395903230676   2018-08             2018-08-17     2018-09-06   \n",
       "1  1661240395903230676   2018-08             2018-08-19     2018-09-11   \n",
       "2  1661240395903230676   2018-08             2018-08-26     2018-09-18   \n",
       "3  1661240395903230676   2018-08             2018-08-30     2018-10-11   \n",
       "4  1661240395903230676   2018-08             2018-08-31     2018-09-20   \n",
       "\n",
       "  DATA_VENCIMENTO  VALOR_A_PAGAR  TAXA  DIFERENCA_DIAS  INADIMPLENTE  \\\n",
       "0      2018-09-06       35516.41  6.99               0         False   \n",
       "1      2018-09-10       17758.21  6.99               1         False   \n",
       "2      2018-09-17       17431.96  6.99               1         False   \n",
       "3      2018-10-05        1341.00  6.99               6          True   \n",
       "4      2018-09-20       21309.85  6.99               0         False   \n",
       "\n",
       "  DATA_CADASTRO  FLAG_PF SEGMENTO_INDUSTRIAL    PORTE CEP_2_DIG  \\\n",
       "0    2013-08-22      0.0            Serviços  PEQUENO        65   \n",
       "1    2013-08-22      0.0            Serviços  PEQUENO        65   \n",
       "2    2013-08-22      0.0            Serviços  PEQUENO        65   \n",
       "3    2013-08-22      0.0            Serviços  PEQUENO        65   \n",
       "4    2013-08-22      0.0            Serviços  PEQUENO        65   \n",
       "\n",
       "   RENDA_MES_ANTERIOR  NO_FUNCIONARIOS  \n",
       "0                 NaN              NaN  \n",
       "1                 NaN              NaN  \n",
       "2                 NaN              NaN  \n",
       "3                 NaN              NaN  \n",
       "4                 NaN              NaN  "
      ]
     },
     "execution_count": 27,
     "metadata": {},
     "output_type": "execute_result"
    }
   ],
   "source": [
    "df_modelagem.head()"
   ]
  },
  {
   "cell_type": "code",
   "execution_count": 28,
   "metadata": {},
   "outputs": [
    {
     "data": {
      "text/plain": [
       "ID_CLIENTE                   0\n",
       "SAFRA_REF                    0\n",
       "DATA_EMISSAO_DOCUMENTO       0\n",
       "DATA_PAGAMENTO               0\n",
       "DATA_VENCIMENTO              0\n",
       "VALOR_A_PAGAR                0\n",
       "TAXA                         0\n",
       "DIFERENCA_DIAS               0\n",
       "INADIMPLENTE                 0\n",
       "DATA_CADASTRO                0\n",
       "FLAG_PF                      0\n",
       "SEGMENTO_INDUSTRIAL          0\n",
       "PORTE                     2476\n",
       "CEP_2_DIG                    0\n",
       "RENDA_MES_ANTERIOR        3937\n",
       "NO_FUNCIONARIOS           3937\n",
       "dtype: int64"
      ]
     },
     "execution_count": 28,
     "metadata": {},
     "output_type": "execute_result"
    }
   ],
   "source": [
    "df_modelagem.isna().sum()"
   ]
  },
  {
   "cell_type": "markdown",
   "metadata": {},
   "source": [
    "A união dos dataframes gerou novos dados faltantes. São dados em que não há registro na base info mas que estão presentes na base pagamentos. Como isso pode ocorrer num caso real, como é o caso do `df_pagamentos_teste`, ilustrado abaixo, é necessário tratar esses dados.\n",
    "\n",
    "A estratégia adotada será inputar ambos os valores de `RENDA_MES_ANTERIOR` quanto `NO_FUNCIONARIOS` com a mediana da combinação `PORTE` e `SEGMENTO_INDUSTRIAL` daquela amostra para os conjuntos de treino, validação e teste. <mark>Assim como para a inputação da coluna `PORTE`, é necessário esperar a divisão dos conjuntos para realizar a imputação</mark>"
   ]
  },
  {
   "cell_type": "code",
   "execution_count": 29,
   "metadata": {},
   "outputs": [
    {
     "data": {
      "text/plain": [
       "ID_CLIENTE                  0\n",
       "SAFRA_REF                   0\n",
       "DATA_EMISSAO_DOCUMENTO      0\n",
       "DATA_VENCIMENTO             0\n",
       "VALOR_A_PAGAR               0\n",
       "TAXA                        0\n",
       "DATA_CADASTRO              38\n",
       "FLAG_PF                    38\n",
       "SEGMENTO_INDUSTRIAL        38\n",
       "PORTE                     416\n",
       "CEP_2_DIG                  38\n",
       "RENDA_MES_ANTERIOR        414\n",
       "NO_FUNCIONARIOS           414\n",
       "dtype: int64"
      ]
     },
     "execution_count": 29,
     "metadata": {},
     "output_type": "execute_result"
    }
   ],
   "source": [
    "df_teste.isna().sum()"
   ]
  },
  {
   "cell_type": "code",
   "execution_count": 30,
   "metadata": {},
   "outputs": [
    {
     "data": {
      "text/html": [
       "<div>\n",
       "<style scoped>\n",
       "    .dataframe tbody tr th:only-of-type {\n",
       "        vertical-align: middle;\n",
       "    }\n",
       "\n",
       "    .dataframe tbody tr th {\n",
       "        vertical-align: top;\n",
       "    }\n",
       "\n",
       "    .dataframe thead th {\n",
       "        text-align: right;\n",
       "    }\n",
       "</style>\n",
       "<table border=\"1\" class=\"dataframe\">\n",
       "  <thead>\n",
       "    <tr style=\"text-align: right;\">\n",
       "      <th></th>\n",
       "      <th>ID_CLIENTE</th>\n",
       "      <th>SAFRA_REF</th>\n",
       "      <th>DATA_EMISSAO_DOCUMENTO</th>\n",
       "      <th>DATA_VENCIMENTO</th>\n",
       "      <th>VALOR_A_PAGAR</th>\n",
       "      <th>TAXA</th>\n",
       "      <th>DATA_CADASTRO</th>\n",
       "      <th>FLAG_PF</th>\n",
       "      <th>SEGMENTO_INDUSTRIAL</th>\n",
       "      <th>PORTE</th>\n",
       "      <th>CEP_2_DIG</th>\n",
       "      <th>RENDA_MES_ANTERIOR</th>\n",
       "      <th>NO_FUNCIONARIOS</th>\n",
       "    </tr>\n",
       "  </thead>\n",
       "  <tbody>\n",
       "    <tr>\n",
       "      <th>3632</th>\n",
       "      <td>5562543665139612149</td>\n",
       "      <td>2021-07</td>\n",
       "      <td>2021-07-29</td>\n",
       "      <td>2021-08-20</td>\n",
       "      <td>19791.50</td>\n",
       "      <td>8.99</td>\n",
       "      <td>NaN</td>\n",
       "      <td>NaN</td>\n",
       "      <td>NaN</td>\n",
       "      <td>NaN</td>\n",
       "      <td>NaN</td>\n",
       "      <td>NaN</td>\n",
       "      <td>NaN</td>\n",
       "    </tr>\n",
       "    <tr>\n",
       "      <th>3871</th>\n",
       "      <td>1166653268490470189</td>\n",
       "      <td>2021-08</td>\n",
       "      <td>2021-08-08</td>\n",
       "      <td>2021-08-23</td>\n",
       "      <td>40600.00</td>\n",
       "      <td>11.99</td>\n",
       "      <td>NaN</td>\n",
       "      <td>NaN</td>\n",
       "      <td>NaN</td>\n",
       "      <td>NaN</td>\n",
       "      <td>NaN</td>\n",
       "      <td>56699.0</td>\n",
       "      <td>126.0</td>\n",
       "    </tr>\n",
       "    <tr>\n",
       "      <th>3872</th>\n",
       "      <td>1166653268490470189</td>\n",
       "      <td>2021-08</td>\n",
       "      <td>2021-08-12</td>\n",
       "      <td>2021-08-27</td>\n",
       "      <td>40600.00</td>\n",
       "      <td>11.99</td>\n",
       "      <td>NaN</td>\n",
       "      <td>NaN</td>\n",
       "      <td>NaN</td>\n",
       "      <td>NaN</td>\n",
       "      <td>NaN</td>\n",
       "      <td>56699.0</td>\n",
       "      <td>126.0</td>\n",
       "    </tr>\n",
       "    <tr>\n",
       "      <th>6362</th>\n",
       "      <td>8750634267020436314</td>\n",
       "      <td>2021-09</td>\n",
       "      <td>2021-09-02</td>\n",
       "      <td>2021-10-08</td>\n",
       "      <td>4189.50</td>\n",
       "      <td>6.99</td>\n",
       "      <td>NaN</td>\n",
       "      <td>NaN</td>\n",
       "      <td>NaN</td>\n",
       "      <td>NaN</td>\n",
       "      <td>NaN</td>\n",
       "      <td>198446.0</td>\n",
       "      <td>99.0</td>\n",
       "    </tr>\n",
       "    <tr>\n",
       "      <th>6455</th>\n",
       "      <td>5562543665139612149</td>\n",
       "      <td>2021-09</td>\n",
       "      <td>2021-09-07</td>\n",
       "      <td>2021-09-29</td>\n",
       "      <td>28259.00</td>\n",
       "      <td>5.99</td>\n",
       "      <td>NaN</td>\n",
       "      <td>NaN</td>\n",
       "      <td>NaN</td>\n",
       "      <td>NaN</td>\n",
       "      <td>NaN</td>\n",
       "      <td>219052.0</td>\n",
       "      <td>124.0</td>\n",
       "    </tr>\n",
       "    <tr>\n",
       "      <th>6456</th>\n",
       "      <td>5562543665139612149</td>\n",
       "      <td>2021-09</td>\n",
       "      <td>2021-09-09</td>\n",
       "      <td>2021-10-01</td>\n",
       "      <td>20185.00</td>\n",
       "      <td>5.99</td>\n",
       "      <td>NaN</td>\n",
       "      <td>NaN</td>\n",
       "      <td>NaN</td>\n",
       "      <td>NaN</td>\n",
       "      <td>NaN</td>\n",
       "      <td>219052.0</td>\n",
       "      <td>124.0</td>\n",
       "    </tr>\n",
       "    <tr>\n",
       "      <th>6474</th>\n",
       "      <td>9016049685460415544</td>\n",
       "      <td>2021-09</td>\n",
       "      <td>2021-09-08</td>\n",
       "      <td>2021-10-08</td>\n",
       "      <td>8397.59</td>\n",
       "      <td>4.99</td>\n",
       "      <td>NaN</td>\n",
       "      <td>NaN</td>\n",
       "      <td>NaN</td>\n",
       "      <td>NaN</td>\n",
       "      <td>NaN</td>\n",
       "      <td>43537.0</td>\n",
       "      <td>119.0</td>\n",
       "    </tr>\n",
       "    <tr>\n",
       "      <th>6507</th>\n",
       "      <td>4228701400180066884</td>\n",
       "      <td>2021-09</td>\n",
       "      <td>2021-09-12</td>\n",
       "      <td>2021-10-07</td>\n",
       "      <td>132.28</td>\n",
       "      <td>4.99</td>\n",
       "      <td>NaN</td>\n",
       "      <td>NaN</td>\n",
       "      <td>NaN</td>\n",
       "      <td>NaN</td>\n",
       "      <td>NaN</td>\n",
       "      <td>113845.0</td>\n",
       "      <td>106.0</td>\n",
       "    </tr>\n",
       "    <tr>\n",
       "      <th>6509</th>\n",
       "      <td>1040994770557588198</td>\n",
       "      <td>2021-09</td>\n",
       "      <td>2021-09-12</td>\n",
       "      <td>2021-10-07</td>\n",
       "      <td>3509.99</td>\n",
       "      <td>5.99</td>\n",
       "      <td>NaN</td>\n",
       "      <td>NaN</td>\n",
       "      <td>NaN</td>\n",
       "      <td>NaN</td>\n",
       "      <td>NaN</td>\n",
       "      <td>635426.0</td>\n",
       "      <td>146.0</td>\n",
       "    </tr>\n",
       "    <tr>\n",
       "      <th>6517</th>\n",
       "      <td>5706551050445880395</td>\n",
       "      <td>2021-09</td>\n",
       "      <td>2021-09-12</td>\n",
       "      <td>2021-10-07</td>\n",
       "      <td>4008.00</td>\n",
       "      <td>8.99</td>\n",
       "      <td>NaN</td>\n",
       "      <td>NaN</td>\n",
       "      <td>NaN</td>\n",
       "      <td>NaN</td>\n",
       "      <td>NaN</td>\n",
       "      <td>571804.0</td>\n",
       "      <td>118.0</td>\n",
       "    </tr>\n",
       "  </tbody>\n",
       "</table>\n",
       "</div>"
      ],
      "text/plain": [
       "               ID_CLIENTE SAFRA_REF DATA_EMISSAO_DOCUMENTO DATA_VENCIMENTO  \\\n",
       "3632  5562543665139612149   2021-07             2021-07-29      2021-08-20   \n",
       "3871  1166653268490470189   2021-08             2021-08-08      2021-08-23   \n",
       "3872  1166653268490470189   2021-08             2021-08-12      2021-08-27   \n",
       "6362  8750634267020436314   2021-09             2021-09-02      2021-10-08   \n",
       "6455  5562543665139612149   2021-09             2021-09-07      2021-09-29   \n",
       "6456  5562543665139612149   2021-09             2021-09-09      2021-10-01   \n",
       "6474  9016049685460415544   2021-09             2021-09-08      2021-10-08   \n",
       "6507  4228701400180066884   2021-09             2021-09-12      2021-10-07   \n",
       "6509  1040994770557588198   2021-09             2021-09-12      2021-10-07   \n",
       "6517  5706551050445880395   2021-09             2021-09-12      2021-10-07   \n",
       "\n",
       "      VALOR_A_PAGAR   TAXA DATA_CADASTRO  FLAG_PF SEGMENTO_INDUSTRIAL PORTE  \\\n",
       "3632       19791.50   8.99           NaN      NaN                 NaN   NaN   \n",
       "3871       40600.00  11.99           NaN      NaN                 NaN   NaN   \n",
       "3872       40600.00  11.99           NaN      NaN                 NaN   NaN   \n",
       "6362        4189.50   6.99           NaN      NaN                 NaN   NaN   \n",
       "6455       28259.00   5.99           NaN      NaN                 NaN   NaN   \n",
       "6456       20185.00   5.99           NaN      NaN                 NaN   NaN   \n",
       "6474        8397.59   4.99           NaN      NaN                 NaN   NaN   \n",
       "6507         132.28   4.99           NaN      NaN                 NaN   NaN   \n",
       "6509        3509.99   5.99           NaN      NaN                 NaN   NaN   \n",
       "6517        4008.00   8.99           NaN      NaN                 NaN   NaN   \n",
       "\n",
       "     CEP_2_DIG  RENDA_MES_ANTERIOR  NO_FUNCIONARIOS  \n",
       "3632       NaN                 NaN              NaN  \n",
       "3871       NaN             56699.0            126.0  \n",
       "3872       NaN             56699.0            126.0  \n",
       "6362       NaN            198446.0             99.0  \n",
       "6455       NaN            219052.0            124.0  \n",
       "6456       NaN            219052.0            124.0  \n",
       "6474       NaN             43537.0            119.0  \n",
       "6507       NaN            113845.0            106.0  \n",
       "6509       NaN            635426.0            146.0  \n",
       "6517       NaN            571804.0            118.0  "
      ]
     },
     "execution_count": 30,
     "metadata": {},
     "output_type": "execute_result"
    }
   ],
   "source": [
    "df_teste[df_teste[\"FLAG_PF\"].isna()].head(10)"
   ]
  },
  {
   "cell_type": "markdown",
   "metadata": {},
   "source": [
    "A tabela ilustrada acima mostra que há vários dados faltantes na base de teste final. Isto se dá porque não há registro desses clientes na base cadastral. Será necessário pensar em formas de como atacar esse problema no momento de se fazer um previsão para dados de clientes não cadastrados. <mark>A forma como isso será solucionado será descrita no momento oportuno</mark>\n",
    "\n",
    "[//]: <> (Uma sugestão seria fazer um baseline que usa apenas os dados disponíveis e outro modelo com dados completos)\n",
    "[//]: <> (Pode ser que o próprio baseline já seja suficiente e não seja necessário ter esses dados para se fazer uma previsão)\n",
    "[//]: <> (O baseline poderia ser aplicado quando esses dados estiverem faltando e o outro quando tivermos a informação completa: COMO DIMINUIR A CONFIANÇA DO MODELO PARA O PRIMEIRO CASO?)"
   ]
  },
  {
   "cell_type": "markdown",
   "metadata": {},
   "source": [
    "## 3. Análise exploratória dos dados\n",
    "\n",
    "Exploram-se abaixo as estatísticas, distribuições e relações entre os dados"
   ]
  },
  {
   "cell_type": "markdown",
   "metadata": {},
   "source": [
    "### Análise univariada"
   ]
  },
  {
   "cell_type": "markdown",
   "metadata": {},
   "source": [
    "#### Variáveis categóricas\n",
    "\n",
    "Variáveis categóricas são aquelas que assumem valores dentro de um rol de possibilidades. No *dataset* as variáveis categóricas são: `FLAG_PF`, `SEGMENTO_INDUSTRIAL`, `PORTE` e a variável alvo `INADIMPLENTE`."
   ]
  },
  {
   "cell_type": "code",
   "execution_count": 31,
   "metadata": {},
   "outputs": [
    {
     "data": {
      "image/png": "[encoded data removed]",
      "text/plain": [
       "<Figure size 640x480 with 1 Axes>"
      ]
     },
     "metadata": {},
     "output_type": "display_data"
    }
   ],
   "source": [
    "df_modelagem[\"SEGMENTO_INDUSTRIAL\"].value_counts().sort_values().plot(kind=\"barh\")\n",
    "plt.title(\"Distribuições de transações por segmento industrial\")\n",
    "plt.ylabel(\"Segmento cadastrado\")\n",
    "plt.xlabel(\"Quantidade de transações\")\n",
    "plt.grid(axis=\"x\")\n",
    "plt.show()"
   ]
  },
  {
   "cell_type": "code",
   "execution_count": 32,
   "metadata": {},
   "outputs": [
    {
     "data": {
      "image/png": "[encoded data removed]",
      "text/plain": [
       "<Figure size 640x480 with 1 Axes>"
      ]
     },
     "metadata": {},
     "output_type": "display_data"
    }
   ],
   "source": [
    "df_modelagem[\"PORTE\"].value_counts().reindex([\"PEQUENO\", \"MEDIO\", \"GRANDE\"]).plot(\n",
    "    kind=\"barh\"\n",
    ")\n",
    "plt.title(\"Distribuições de transações por porte\")\n",
    "plt.ylabel(\"Porte cadastrado\")\n",
    "plt.xlabel(\"Quantidade de transações\")\n",
    "plt.grid(axis=\"x\")\n",
    "plt.show()"
   ]
  },
  {
   "cell_type": "code",
   "execution_count": 33,
   "metadata": {},
   "outputs": [
    {
     "name": "stdout",
     "output_type": "stream",
     "text": [
      "Distribuição de pessoas físicas e jurídicas\n"
     ]
    },
    {
     "data": {
      "text/plain": [
       "FLAG_PF\n",
       "0.0    99.72\n",
       "1.0     0.28\n",
       "Name: proportion, dtype: float64"
      ]
     },
     "execution_count": 33,
     "metadata": {},
     "output_type": "execute_result"
    }
   ],
   "source": [
    "print(\"Distribuição de pessoas físicas e jurídicas\")\n",
    "round(df_modelagem[\"FLAG_PF\"].value_counts(normalize=True) * 100, 2)"
   ]
  },
  {
   "cell_type": "code",
   "execution_count": 34,
   "metadata": {},
   "outputs": [
    {
     "name": "stdout",
     "output_type": "stream",
     "text": [
      "Distribuição de inadimplentes\n"
     ]
    },
    {
     "data": {
      "text/plain": [
       "INADIMPLENTE\n",
       "False    94.21\n",
       "True      5.79\n",
       "Name: proportion, dtype: float64"
      ]
     },
     "execution_count": 34,
     "metadata": {},
     "output_type": "execute_result"
    }
   ],
   "source": [
    "print(\"Distribuição de inadimplentes\")\n",
    "round((df_modelagem[\"INADIMPLENTE\"].value_counts(normalize=True) * 100), 2)"
   ]
  },
  {
   "cell_type": "markdown",
   "metadata": {},
   "source": [
    "Com base nas análises acima, é possível verificar alguns fatos:\n",
    "* O setor de serviços é o que mais tem transações cadastradas na base de modelage\n",
    "* Clientes de porte médio e grande realizaram mais empréstimos no banco que deu origem aos dados\n",
    "* Há uma discrepância na quantidade de transações de pessoas físicas e jurídicas. A diferença nas quantidades identificada na base cadastral aumentou ao se observar a quantidade de transações\n",
    "* Há um desbalanceamento entre as classes possíveis da variável alvo. Isso é de suma importância na definição da métrica de avaliação utilizada, uma vez que um modelo que preveja sempre que uma transação não é inadimplente teria acurácia de 94,21%, o que pode gerar uma ilusão."
   ]
  },
  {
   "cell_type": "markdown",
   "metadata": {},
   "source": [
    "### Variáveis numéricas\n",
    "\n",
    "Observemos, abaixo, as estatísticas e distribuições referentes às variáveis numéricas"
   ]
  },
  {
   "cell_type": "markdown",
   "metadata": {},
   "source": [
    "Primeiramente, para avaliar uma importante estatística da base de dados, um novo atributo será criado. A *feature* `PRAZO_PAGAMENTO` será criada, representando a diferença, em dias, entre a data de emissão do documento (`DATA_EMISSAO_DOCUMENTO`) e a data de vencimento (`DATA_VENCIMENTO`)."
   ]
  },
  {
   "cell_type": "code",
   "execution_count": 35,
   "metadata": {},
   "outputs": [],
   "source": [
    "df_modelagem[\"PRAZO_PAGAMENTO\"] = (\n",
    "    df_modelagem[\"DATA_VENCIMENTO\"] - df_modelagem[\"DATA_EMISSAO_DOCUMENTO\"]\n",
    ").dt.days"
   ]
  },
  {
   "cell_type": "code",
   "execution_count": 36,
   "metadata": {},
   "outputs": [],
   "source": [
    "# Selecionar colunas numéricas sem ID_CLIENTE E datas de pagamento, vencimento e emissão\n",
    "colunas_numericas = df_modelagem.describe().columns[4:]"
   ]
  },
  {
   "cell_type": "code",
   "execution_count": 37,
   "metadata": {},
   "outputs": [
    {
     "data": {
      "text/html": [
       "<div>\n",
       "<style scoped>\n",
       "    .dataframe tbody tr th:only-of-type {\n",
       "        vertical-align: middle;\n",
       "    }\n",
       "\n",
       "    .dataframe tbody tr th {\n",
       "        vertical-align: top;\n",
       "    }\n",
       "\n",
       "    .dataframe thead th {\n",
       "        text-align: right;\n",
       "    }\n",
       "</style>\n",
       "<table border=\"1\" class=\"dataframe\">\n",
       "  <thead>\n",
       "    <tr style=\"text-align: right;\">\n",
       "      <th></th>\n",
       "      <th>VALOR_A_PAGAR</th>\n",
       "      <th>TAXA</th>\n",
       "      <th>DIFERENCA_DIAS</th>\n",
       "      <th>FLAG_PF</th>\n",
       "      <th>RENDA_MES_ANTERIOR</th>\n",
       "      <th>NO_FUNCIONARIOS</th>\n",
       "      <th>PRAZO_PAGAMENTO</th>\n",
       "    </tr>\n",
       "  </thead>\n",
       "  <tbody>\n",
       "    <tr>\n",
       "      <th>count</th>\n",
       "      <td>7.741400e+04</td>\n",
       "      <td>77414.000000</td>\n",
       "      <td>77414.000000</td>\n",
       "      <td>77414.000000</td>\n",
       "      <td>7.347700e+04</td>\n",
       "      <td>73477.000000</td>\n",
       "      <td>77414.000000</td>\n",
       "    </tr>\n",
       "    <tr>\n",
       "      <th>mean</th>\n",
       "      <td>4.656546e+04</td>\n",
       "      <td>6.789623</td>\n",
       "      <td>-0.171429</td>\n",
       "      <td>0.002829</td>\n",
       "      <td>2.909188e+05</td>\n",
       "      <td>117.674170</td>\n",
       "      <td>23.320575</td>\n",
       "    </tr>\n",
       "    <tr>\n",
       "      <th>std</th>\n",
       "      <td>4.633892e+04</td>\n",
       "      <td>1.798225</td>\n",
       "      <td>25.229477</td>\n",
       "      <td>0.053113</td>\n",
       "      <td>2.129718e+05</td>\n",
       "      <td>18.776952</td>\n",
       "      <td>26.137018</td>\n",
       "    </tr>\n",
       "    <tr>\n",
       "      <th>min</th>\n",
       "      <td>1.000000e-01</td>\n",
       "      <td>4.990000</td>\n",
       "      <td>-2661.000000</td>\n",
       "      <td>0.000000</td>\n",
       "      <td>1.050000e+02</td>\n",
       "      <td>0.000000</td>\n",
       "      <td>-420.000000</td>\n",
       "    </tr>\n",
       "    <tr>\n",
       "      <th>25%</th>\n",
       "      <td>1.875275e+04</td>\n",
       "      <td>5.990000</td>\n",
       "      <td>0.000000</td>\n",
       "      <td>0.000000</td>\n",
       "      <td>1.338140e+05</td>\n",
       "      <td>105.000000</td>\n",
       "      <td>16.000000</td>\n",
       "    </tr>\n",
       "    <tr>\n",
       "      <th>50%</th>\n",
       "      <td>3.475135e+04</td>\n",
       "      <td>5.990000</td>\n",
       "      <td>0.000000</td>\n",
       "      <td>0.000000</td>\n",
       "      <td>2.404700e+05</td>\n",
       "      <td>118.000000</td>\n",
       "      <td>18.000000</td>\n",
       "    </tr>\n",
       "    <tr>\n",
       "      <th>75%</th>\n",
       "      <td>6.088421e+04</td>\n",
       "      <td>6.990000</td>\n",
       "      <td>0.000000</td>\n",
       "      <td>0.000000</td>\n",
       "      <td>3.949130e+05</td>\n",
       "      <td>130.000000</td>\n",
       "      <td>24.000000</td>\n",
       "    </tr>\n",
       "    <tr>\n",
       "      <th>max</th>\n",
       "      <td>4.400000e+06</td>\n",
       "      <td>11.990000</td>\n",
       "      <td>869.000000</td>\n",
       "      <td>1.000000</td>\n",
       "      <td>1.682759e+06</td>\n",
       "      <td>198.000000</td>\n",
       "      <td>2677.000000</td>\n",
       "    </tr>\n",
       "  </tbody>\n",
       "</table>\n",
       "</div>"
      ],
      "text/plain": [
       "       VALOR_A_PAGAR          TAXA  DIFERENCA_DIAS       FLAG_PF  \\\n",
       "count   7.741400e+04  77414.000000    77414.000000  77414.000000   \n",
       "mean    4.656546e+04      6.789623       -0.171429      0.002829   \n",
       "std     4.633892e+04      1.798225       25.229477      0.053113   \n",
       "min     1.000000e-01      4.990000    -2661.000000      0.000000   \n",
       "25%     1.875275e+04      5.990000        0.000000      0.000000   \n",
       "50%     3.475135e+04      5.990000        0.000000      0.000000   \n",
       "75%     6.088421e+04      6.990000        0.000000      0.000000   \n",
       "max     4.400000e+06     11.990000      869.000000      1.000000   \n",
       "\n",
       "       RENDA_MES_ANTERIOR  NO_FUNCIONARIOS  PRAZO_PAGAMENTO  \n",
       "count        7.347700e+04     73477.000000     77414.000000  \n",
       "mean         2.909188e+05       117.674170        23.320575  \n",
       "std          2.129718e+05        18.776952        26.137018  \n",
       "min          1.050000e+02         0.000000      -420.000000  \n",
       "25%          1.338140e+05       105.000000        16.000000  \n",
       "50%          2.404700e+05       118.000000        18.000000  \n",
       "75%          3.949130e+05       130.000000        24.000000  \n",
       "max          1.682759e+06       198.000000      2677.000000  "
      ]
     },
     "execution_count": 37,
     "metadata": {},
     "output_type": "execute_result"
    }
   ],
   "source": [
    "df_modelagem[colunas_numericas].describe()"
   ]
  },
  {
   "cell_type": "markdown",
   "metadata": {},
   "source": [
    "Na tabela acima, é possível verificar que o valor mínimo do da coluna `PRAZO_PAGAMENTO` é menor do que 0, o que significaria que a data de vencimento seria mais do que a data de emissão do documento."
   ]
  },
  {
   "cell_type": "code",
   "execution_count": 38,
   "metadata": {},
   "outputs": [
    {
     "data": {
      "text/html": [
       "<div>\n",
       "<style scoped>\n",
       "    .dataframe tbody tr th:only-of-type {\n",
       "        vertical-align: middle;\n",
       "    }\n",
       "\n",
       "    .dataframe tbody tr th {\n",
       "        vertical-align: top;\n",
       "    }\n",
       "\n",
       "    .dataframe thead th {\n",
       "        text-align: right;\n",
       "    }\n",
       "</style>\n",
       "<table border=\"1\" class=\"dataframe\">\n",
       "  <thead>\n",
       "    <tr style=\"text-align: right;\">\n",
       "      <th></th>\n",
       "      <th>ID_CLIENTE</th>\n",
       "      <th>SAFRA_REF</th>\n",
       "      <th>DATA_EMISSAO_DOCUMENTO</th>\n",
       "      <th>DATA_PAGAMENTO</th>\n",
       "      <th>DATA_VENCIMENTO</th>\n",
       "      <th>VALOR_A_PAGAR</th>\n",
       "      <th>TAXA</th>\n",
       "      <th>DIFERENCA_DIAS</th>\n",
       "      <th>INADIMPLENTE</th>\n",
       "      <th>DATA_CADASTRO</th>\n",
       "      <th>FLAG_PF</th>\n",
       "      <th>SEGMENTO_INDUSTRIAL</th>\n",
       "      <th>PORTE</th>\n",
       "      <th>CEP_2_DIG</th>\n",
       "      <th>RENDA_MES_ANTERIOR</th>\n",
       "      <th>NO_FUNCIONARIOS</th>\n",
       "      <th>PRAZO_PAGAMENTO</th>\n",
       "    </tr>\n",
       "  </thead>\n",
       "  <tbody>\n",
       "    <tr>\n",
       "      <th>1099</th>\n",
       "      <td>1118514612547157551</td>\n",
       "      <td>2018-09</td>\n",
       "      <td>2018-09-02</td>\n",
       "      <td>2018-09-19</td>\n",
       "      <td>2018-08-27</td>\n",
       "      <td>58434.08</td>\n",
       "      <td>6.99</td>\n",
       "      <td>23</td>\n",
       "      <td>True</td>\n",
       "      <td>2013-10-31</td>\n",
       "      <td>0.0</td>\n",
       "      <td>Serviços</td>\n",
       "      <td>PEQUENO</td>\n",
       "      <td>78</td>\n",
       "      <td>70472.0</td>\n",
       "      <td>87.0</td>\n",
       "      <td>-6</td>\n",
       "    </tr>\n",
       "    <tr>\n",
       "      <th>1100</th>\n",
       "      <td>1118514612547157551</td>\n",
       "      <td>2018-09</td>\n",
       "      <td>2018-09-02</td>\n",
       "      <td>2018-09-18</td>\n",
       "      <td>2018-06-20</td>\n",
       "      <td>50000.00</td>\n",
       "      <td>6.99</td>\n",
       "      <td>90</td>\n",
       "      <td>True</td>\n",
       "      <td>2013-10-31</td>\n",
       "      <td>0.0</td>\n",
       "      <td>Serviços</td>\n",
       "      <td>PEQUENO</td>\n",
       "      <td>78</td>\n",
       "      <td>70472.0</td>\n",
       "      <td>87.0</td>\n",
       "      <td>-74</td>\n",
       "    </tr>\n",
       "    <tr>\n",
       "      <th>1101</th>\n",
       "      <td>1118514612547157551</td>\n",
       "      <td>2018-09</td>\n",
       "      <td>2018-09-02</td>\n",
       "      <td>2018-09-19</td>\n",
       "      <td>2018-07-25</td>\n",
       "      <td>58434.08</td>\n",
       "      <td>6.99</td>\n",
       "      <td>56</td>\n",
       "      <td>True</td>\n",
       "      <td>2013-10-31</td>\n",
       "      <td>0.0</td>\n",
       "      <td>Serviços</td>\n",
       "      <td>PEQUENO</td>\n",
       "      <td>78</td>\n",
       "      <td>70472.0</td>\n",
       "      <td>87.0</td>\n",
       "      <td>-39</td>\n",
       "    </tr>\n",
       "    <tr>\n",
       "      <th>1944</th>\n",
       "      <td>1977574645216036803</td>\n",
       "      <td>2018-09</td>\n",
       "      <td>2018-09-13</td>\n",
       "      <td>2018-09-28</td>\n",
       "      <td>2018-08-31</td>\n",
       "      <td>46674.40</td>\n",
       "      <td>5.99</td>\n",
       "      <td>28</td>\n",
       "      <td>True</td>\n",
       "      <td>2017-02-05</td>\n",
       "      <td>0.0</td>\n",
       "      <td>Indústria</td>\n",
       "      <td>MEDIO</td>\n",
       "      <td>28</td>\n",
       "      <td>553341.0</td>\n",
       "      <td>104.0</td>\n",
       "      <td>-13</td>\n",
       "    </tr>\n",
       "    <tr>\n",
       "      <th>2565</th>\n",
       "      <td>8198518259946944874</td>\n",
       "      <td>2018-10</td>\n",
       "      <td>2018-10-12</td>\n",
       "      <td>2019-05-22</td>\n",
       "      <td>2017-11-27</td>\n",
       "      <td>11878.82</td>\n",
       "      <td>4.99</td>\n",
       "      <td>541</td>\n",
       "      <td>True</td>\n",
       "      <td>2013-01-31</td>\n",
       "      <td>0.0</td>\n",
       "      <td>Serviços</td>\n",
       "      <td>MEDIO</td>\n",
       "      <td>70</td>\n",
       "      <td>210562.0</td>\n",
       "      <td>139.0</td>\n",
       "      <td>-319</td>\n",
       "    </tr>\n",
       "    <tr>\n",
       "      <th>5009</th>\n",
       "      <td>6020593949794792044</td>\n",
       "      <td>2018-11</td>\n",
       "      <td>2018-11-06</td>\n",
       "      <td>2021-03-23</td>\n",
       "      <td>2018-11-05</td>\n",
       "      <td>278657.56</td>\n",
       "      <td>6.99</td>\n",
       "      <td>869</td>\n",
       "      <td>True</td>\n",
       "      <td>2014-03-27</td>\n",
       "      <td>0.0</td>\n",
       "      <td>Indústria</td>\n",
       "      <td>PEQUENO</td>\n",
       "      <td>95</td>\n",
       "      <td>450205.0</td>\n",
       "      <td>118.0</td>\n",
       "      <td>-1</td>\n",
       "    </tr>\n",
       "    <tr>\n",
       "      <th>5481</th>\n",
       "      <td>8198518259946944874</td>\n",
       "      <td>2018-11</td>\n",
       "      <td>2018-11-13</td>\n",
       "      <td>2018-06-19</td>\n",
       "      <td>2017-12-28</td>\n",
       "      <td>255.43</td>\n",
       "      <td>6.99</td>\n",
       "      <td>173</td>\n",
       "      <td>True</td>\n",
       "      <td>2013-01-31</td>\n",
       "      <td>0.0</td>\n",
       "      <td>Serviços</td>\n",
       "      <td>MEDIO</td>\n",
       "      <td>70</td>\n",
       "      <td>217032.0</td>\n",
       "      <td>145.0</td>\n",
       "      <td>-320</td>\n",
       "    </tr>\n",
       "    <tr>\n",
       "      <th>8379</th>\n",
       "      <td>8348574220426911086</td>\n",
       "      <td>2019-01</td>\n",
       "      <td>2019-01-03</td>\n",
       "      <td>2019-01-16</td>\n",
       "      <td>2018-12-17</td>\n",
       "      <td>10000.00</td>\n",
       "      <td>6.99</td>\n",
       "      <td>30</td>\n",
       "      <td>True</td>\n",
       "      <td>2011-02-14</td>\n",
       "      <td>0.0</td>\n",
       "      <td>Comércio</td>\n",
       "      <td>PEQUENO</td>\n",
       "      <td>13</td>\n",
       "      <td>98595.0</td>\n",
       "      <td>109.0</td>\n",
       "      <td>-17</td>\n",
       "    </tr>\n",
       "    <tr>\n",
       "      <th>16200</th>\n",
       "      <td>4442205629227031623</td>\n",
       "      <td>2019-03</td>\n",
       "      <td>2019-03-24</td>\n",
       "      <td>2019-06-12</td>\n",
       "      <td>2018-12-07</td>\n",
       "      <td>100000.00</td>\n",
       "      <td>5.99</td>\n",
       "      <td>187</td>\n",
       "      <td>True</td>\n",
       "      <td>2013-03-17</td>\n",
       "      <td>0.0</td>\n",
       "      <td>Comércio</td>\n",
       "      <td>MEDIO</td>\n",
       "      <td>44</td>\n",
       "      <td>NaN</td>\n",
       "      <td>NaN</td>\n",
       "      <td>-107</td>\n",
       "    </tr>\n",
       "    <tr>\n",
       "      <th>16201</th>\n",
       "      <td>4442205629227031623</td>\n",
       "      <td>2019-03</td>\n",
       "      <td>2019-03-24</td>\n",
       "      <td>2019-06-14</td>\n",
       "      <td>2018-12-07</td>\n",
       "      <td>63000.00</td>\n",
       "      <td>5.99</td>\n",
       "      <td>189</td>\n",
       "      <td>True</td>\n",
       "      <td>2013-03-17</td>\n",
       "      <td>0.0</td>\n",
       "      <td>Comércio</td>\n",
       "      <td>MEDIO</td>\n",
       "      <td>44</td>\n",
       "      <td>NaN</td>\n",
       "      <td>NaN</td>\n",
       "      <td>-107</td>\n",
       "    </tr>\n",
       "  </tbody>\n",
       "</table>\n",
       "</div>"
      ],
      "text/plain": [
       "                ID_CLIENTE SAFRA_REF DATA_EMISSAO_DOCUMENTO DATA_PAGAMENTO  \\\n",
       "1099   1118514612547157551   2018-09             2018-09-02     2018-09-19   \n",
       "1100   1118514612547157551   2018-09             2018-09-02     2018-09-18   \n",
       "1101   1118514612547157551   2018-09             2018-09-02     2018-09-19   \n",
       "1944   1977574645216036803   2018-09             2018-09-13     2018-09-28   \n",
       "2565   8198518259946944874   2018-10             2018-10-12     2019-05-22   \n",
       "5009   6020593949794792044   2018-11             2018-11-06     2021-03-23   \n",
       "5481   8198518259946944874   2018-11             2018-11-13     2018-06-19   \n",
       "8379   8348574220426911086   2019-01             2019-01-03     2019-01-16   \n",
       "16200  4442205629227031623   2019-03             2019-03-24     2019-06-12   \n",
       "16201  4442205629227031623   2019-03             2019-03-24     2019-06-14   \n",
       "\n",
       "      DATA_VENCIMENTO  VALOR_A_PAGAR  TAXA  DIFERENCA_DIAS  INADIMPLENTE  \\\n",
       "1099       2018-08-27       58434.08  6.99              23          True   \n",
       "1100       2018-06-20       50000.00  6.99              90          True   \n",
       "1101       2018-07-25       58434.08  6.99              56          True   \n",
       "1944       2018-08-31       46674.40  5.99              28          True   \n",
       "2565       2017-11-27       11878.82  4.99             541          True   \n",
       "5009       2018-11-05      278657.56  6.99             869          True   \n",
       "5481       2017-12-28         255.43  6.99             173          True   \n",
       "8379       2018-12-17       10000.00  6.99              30          True   \n",
       "16200      2018-12-07      100000.00  5.99             187          True   \n",
       "16201      2018-12-07       63000.00  5.99             189          True   \n",
       "\n",
       "      DATA_CADASTRO  FLAG_PF SEGMENTO_INDUSTRIAL    PORTE CEP_2_DIG  \\\n",
       "1099     2013-10-31      0.0            Serviços  PEQUENO        78   \n",
       "1100     2013-10-31      0.0            Serviços  PEQUENO        78   \n",
       "1101     2013-10-31      0.0            Serviços  PEQUENO        78   \n",
       "1944     2017-02-05      0.0           Indústria    MEDIO        28   \n",
       "2565     2013-01-31      0.0            Serviços    MEDIO        70   \n",
       "5009     2014-03-27      0.0           Indústria  PEQUENO        95   \n",
       "5481     2013-01-31      0.0            Serviços    MEDIO        70   \n",
       "8379     2011-02-14      0.0            Comércio  PEQUENO        13   \n",
       "16200    2013-03-17      0.0            Comércio    MEDIO        44   \n",
       "16201    2013-03-17      0.0            Comércio    MEDIO        44   \n",
       "\n",
       "       RENDA_MES_ANTERIOR  NO_FUNCIONARIOS  PRAZO_PAGAMENTO  \n",
       "1099              70472.0             87.0               -6  \n",
       "1100              70472.0             87.0              -74  \n",
       "1101              70472.0             87.0              -39  \n",
       "1944             553341.0            104.0              -13  \n",
       "2565             210562.0            139.0             -319  \n",
       "5009             450205.0            118.0               -1  \n",
       "5481             217032.0            145.0             -320  \n",
       "8379              98595.0            109.0              -17  \n",
       "16200                 NaN              NaN             -107  \n",
       "16201                 NaN              NaN             -107  "
      ]
     },
     "metadata": {},
     "output_type": "display_data"
    },
    {
     "name": "stdout",
     "output_type": "stream",
     "text": [
      "Número de registros com data de vencimento menor que a data de emissão do documento\n"
     ]
    },
    {
     "data": {
      "text/plain": [
       "459"
      ]
     },
     "execution_count": 38,
     "metadata": {},
     "output_type": "execute_result"
    }
   ],
   "source": [
    "display(\n",
    "    df_modelagem[\n",
    "        df_modelagem[\"DATA_VENCIMENTO\"] < df_modelagem[\"DATA_EMISSAO_DOCUMENTO\"]\n",
    "    ].head(10)\n",
    ")\n",
    "\n",
    "print(\n",
    "    \"Número de registros com data de vencimento menor que a data de emissão do documento\"\n",
    ")\n",
    "df_modelagem[\n",
    "    df_modelagem[\"DATA_VENCIMENTO\"] < df_modelagem[\"DATA_EMISSAO_DOCUMENTO\"]\n",
    "].size"
   ]
  },
  {
   "cell_type": "markdown",
   "metadata": {},
   "source": [
    "O ilustrado acima mostra que há 459 registros com data de vencimento sendo anterior à data de emissão do documento. Os casos em que isso acontece serão mantidos assim, pois pode ser importante para os modelos verem casos errados com erros que podem acontecer na vida real."
   ]
  },
  {
   "cell_type": "markdown",
   "metadata": {},
   "source": [
    "### Análise multivariada\n",
    "\n",
    "Analisaremos abaixo as relações entre variáveis. Algumas hipóteses serão levantadas:\n",
    "\n",
    "1. Há alguma relação entre a inadimplência e o valor do empréstimo?\n",
    "2. Há alguma relação entre a inadimplência e a renda no mês anterior?\n",
    "3. Há alguma relação entre a inadimplência e o prazo para pagamento?\n",
    "4. Há alguma relação entre a inadimplência e a safra referente?"
   ]
  },
  {
   "cell_type": "code",
   "execution_count": 39,
   "metadata": {},
   "outputs": [],
   "source": [
    "df_subset = df_modelagem[\n",
    "    [\n",
    "        \"VALOR_A_PAGAR\",\n",
    "        \"RENDA_MES_ANTERIOR\",\n",
    "        \"INADIMPLENTE\",\n",
    "        \"SAFRA_REF\",\n",
    "        \"PRAZO_PAGAMENTO\",\n",
    "    ]\n",
    "]"
   ]
  },
  {
   "cell_type": "code",
   "execution_count": 40,
   "metadata": {},
   "outputs": [
    {
     "data": {
      "image/png": "[encoded data removed]",
      "text/plain": [
       "<Figure size 1200x600 with 2 Axes>"
      ]
     },
     "metadata": {},
     "output_type": "display_data"
    }
   ],
   "source": [
    "# Plot de boxplot para RENDA_MES_ANTERIOR por inadimplência\n",
    "fig, ax = plt.subplots(ncols=2, figsize=(12, 6))\n",
    "\n",
    "ax[0].set_title(\"Boxplot de renda do mês anterior por inadimplência\")\n",
    "sns.boxplot(\n",
    "    data=df_subset,\n",
    "    x=\"INADIMPLENTE\",\n",
    "    y=\"RENDA_MES_ANTERIOR\",\n",
    "    showfliers=True,\n",
    "    ax=ax[0],\n",
    ")\n",
    "ax[0].set_ylabel(\"Renda do mês anterior\")\n",
    "ax[0].set_xlabel(\"Inadimplente\")\n",
    "ax[0].set_xticks([0, 1])\n",
    "ax[0].set_xticklabels([\"Não\", \"Sim\"])\n",
    "\n",
    "# Plot de boxplot para RENDA_MES_ANTERIOR por inadimplência sem outliers\n",
    "ax[1].set_title(\"Boxplot de renda do mês anterior por inadimplência (Sem outliers)\")\n",
    "sns.boxplot(\n",
    "    data=df_subset,\n",
    "    x=\"INADIMPLENTE\",\n",
    "    y=\"RENDA_MES_ANTERIOR\",\n",
    "    showfliers=False,\n",
    "    ax=ax[1],\n",
    ")\n",
    "ax[1].set_ylabel(\"Renda do mês anterior\")\n",
    "ax[1].set_xlabel(\"Inadimplente\")\n",
    "ax[1].set_xticks([0, 1])\n",
    "ax[1].set_xticklabels([\"Não\", \"Sim\"])\n",
    "\n",
    "plt.tight_layout()\n",
    "plt.show()"
   ]
  },
  {
   "cell_type": "markdown",
   "metadata": {},
   "source": [
    "Ignorados os outliers, não parece haver uma boa separabilidade entre as classes da variável alvo usando apenas a renda do mês anterior"
   ]
  },
  {
   "cell_type": "code",
   "execution_count": 41,
   "metadata": {},
   "outputs": [
    {
     "data": {
      "image/png": "[encoded data removed]",
      "text/plain": [
       "<Figure size 1200x600 with 2 Axes>"
      ]
     },
     "metadata": {},
     "output_type": "display_data"
    }
   ],
   "source": [
    "# Plot de boxplot para VALOR_A_PAGAR por inadimplência\n",
    "fig, ax = plt.subplots(ncols=2, figsize=(12, 6))\n",
    "\n",
    "ax[0].set_title(\"Boxplot de valor por inadimplência\")\n",
    "sns.boxplot(\n",
    "    data=df_subset,\n",
    "    x=\"INADIMPLENTE\",\n",
    "    y=\"VALOR_A_PAGAR\",\n",
    "    showfliers=True,\n",
    "    ax=ax[0],\n",
    ")\n",
    "ax[0].set_ylabel(\"Valor a pagar\")\n",
    "ax[0].set_xlabel(\"Inadimplente\")\n",
    "ax[0].set_xticks([0, 1])\n",
    "ax[0].set_xticklabels([\"Não\", \"Sim\"])\n",
    "\n",
    "# Plot de boxplot para VALOR_A_PAGAR por inadimplência sem outliers\n",
    "ax[1].set_title(\"Boxplot de valor a pagar por inadimplência (Sem outliers)\")\n",
    "sns.boxplot(\n",
    "    data=df_subset,\n",
    "    x=\"INADIMPLENTE\",\n",
    "    y=\"VALOR_A_PAGAR\",\n",
    "    showfliers=False,\n",
    "    ax=ax[1],\n",
    ")\n",
    "ax[1].set_ylabel(\"Valor a pagar\")\n",
    "ax[1].set_xlabel(\"Inadimplente\")\n",
    "ax[1].set_xticks([0, 1])\n",
    "ax[1].set_xticklabels([\"Não\", \"Sim\"])\n",
    "\n",
    "plt.tight_layout()\n",
    "plt.show()"
   ]
  },
  {
   "cell_type": "markdown",
   "metadata": {},
   "source": [
    "Ignorados os outliers, assim como para o caso de renda do mês anterior, não parece haver uma boa separabilidade entre as classes da variável alvo usando apenas o valor a pagar."
   ]
  },
  {
   "cell_type": "code",
   "execution_count": 42,
   "metadata": {},
   "outputs": [
    {
     "data": {
      "image/png": "[encoded data removed]",
      "text/plain": [
       "<Figure size 1200x600 with 2 Axes>"
      ]
     },
     "metadata": {},
     "output_type": "display_data"
    }
   ],
   "source": [
    "# Plot de boxplot para PRAZO_PAGAMENTO por inadimplência\n",
    "fig, ax = plt.subplots(ncols=2, figsize=(12, 6))\n",
    "\n",
    "ax[0].set_title(\"Boxplot de prazo para pagamento por inadimplência\")\n",
    "sns.boxplot(\n",
    "    data=df_subset,\n",
    "    x=\"INADIMPLENTE\",\n",
    "    y=\"PRAZO_PAGAMENTO\",\n",
    "    showfliers=True,\n",
    "    ax=ax[0],\n",
    ")\n",
    "ax[0].set_ylabel(\"Prazo para pagamento\")\n",
    "ax[0].set_xlabel(\"Inadimplente\")\n",
    "ax[0].set_xticks([0, 1])\n",
    "ax[0].set_xticklabels([\"Não\", \"Sim\"])\n",
    "\n",
    "# Plot de boxplot para PRAZO_PAGAMENTO por inadimplência sem outliers\n",
    "ax[1].set_title(\"Boxplot de prazo para pagamento por inadimplência (Sem outliers)\")\n",
    "sns.boxplot(\n",
    "    data=df_subset,\n",
    "    x=\"INADIMPLENTE\",\n",
    "    y=\"PRAZO_PAGAMENTO\",\n",
    "    showfliers=False,\n",
    "    ax=ax[1],\n",
    ")\n",
    "ax[1].set_ylabel(\"Prazo para pagamento\")\n",
    "ax[1].set_xlabel(\"Inadimplente\")\n",
    "ax[1].set_xticks([0, 1])\n",
    "ax[1].set_xticklabels([\"Não\", \"Sim\"])\n",
    "\n",
    "plt.tight_layout()\n",
    "plt.show()"
   ]
  },
  {
   "cell_type": "markdown",
   "metadata": {},
   "source": [
    "Ignorados os outliers, assim como nos casos anteriores, não parece haver uma boa separabilidade entre as classes da variável alvo usando apenas o prazo para pagamento."
   ]
  },
  {
   "cell_type": "code",
   "execution_count": 43,
   "metadata": {},
   "outputs": [
    {
     "data": {
      "image/png": "[encoded data removed]",
      "text/plain": [
       "<Figure size 1000x600 with 1 Axes>"
      ]
     },
     "metadata": {},
     "output_type": "display_data"
    }
   ],
   "source": [
    "# Plot de SAFRA_REF por inadimplência\n",
    "plt.figure(figsize=(10, 6))\n",
    "plt.plot(\n",
    "    df_subset.groupby(\"SAFRA_REF\")[\"INADIMPLENTE\"].mean(), marker=\"o\", linestyle=\"-\"\n",
    ")\n",
    "\n",
    "plt.title(\"Taxa de inadimplência por safra\")\n",
    "plt.ylabel(\"Taxa de inadimplência\")\n",
    "plt.xlabel(\"Safra\")\n",
    "plt.xticks(rotation=45, ha=\"right\")\n",
    "plt.tight_layout()\n",
    "plt.grid(axis=\"both\")\n",
    "plt.show()"
   ]
  },
  {
   "cell_type": "markdown",
   "metadata": {},
   "source": [
    "Parece haver uma relação da taxa de pagamentos inadimplentes em função da safra referente. Observa-se um aumento da taxa de pagamentos inadimplentes no período do final de 2019 até o mês de Março de 2020. O aumento da taxa de inadimplência nesse período pode ter relação com a pandemia da Covid-19, essa relação não será explorada neste trabalho."
   ]
  },
  {
   "cell_type": "markdown",
   "metadata": {},
   "source": [
    "## 4. Desenvolvimento de modelos\n",
    "\n",
    "A tarefa a ser realizada por modelos de machine learning neste projeto é a classificação binária, podendo a saída do modelo ser apenas 1 ou 0. Como o objetivo do projeto é fornecer um score de inadimplência, serão utilizadas as probabilidades do modelo como predição para o conjunto de teste.\n",
    "\n",
    "Como descrito na seção 2, na etapa de pré-processamento, alguns dos dados relacionados ao cadastro de clientes do teste estão faltando. Por esse motivo, serão desenvolvidos dois modelos, um de *baseline* que utiliza somente as features disponíveis nesses casos e outro que utiliza todas as features disponíveis no conjunto de modelagem.\n",
    "\n",
    "Dessa forma, podemos utilizar o modelo mais completo nos casos em que há todas as informações e um modelo menos completo no caso em que há dados faltantes."
   ]
  },
  {
   "cell_type": "markdown",
   "metadata": {},
   "source": [
    "### Divisão dos dados\n",
    "\n",
    "Será realizada uma divisão estratificada (mantendo a proporção da variável alvo) dos dados em três conjuntos. Serão alocados 70% dos dados para treinamentos, 15% para validação e 15% para teste. O conjunto de validação será, após a otimização de hiperparâmetros, adicionado ao conjunto de treino para realizar o treinamento e avaliação no conjunto de teste"
   ]
  },
  {
   "cell_type": "code",
   "execution_count": 44,
   "metadata": {},
   "outputs": [],
   "source": [
    "# Remover colunas que não serão utilizadas\n",
    "cols_to_drop = [\n",
    "    \"ID_CLIENTE\",\n",
    "    \"DATA_EMISSAO_DOCUMENTO\",\n",
    "    \"DATA_VENCIMENTO\",\n",
    "    \"DATA_PAGAMENTO\",\n",
    "    \"DATA_CADASTRO\",\n",
    "    \"CEP_2_DIG\",\n",
    "]\n",
    "\n",
    "df_features_complete = df_modelagem.drop(cols_to_drop, axis=1)"
   ]
  },
  {
   "cell_type": "code",
   "execution_count": 45,
   "metadata": {},
   "outputs": [
    {
     "data": {
      "text/html": [
       "<div>\n",
       "<style scoped>\n",
       "    .dataframe tbody tr th:only-of-type {\n",
       "        vertical-align: middle;\n",
       "    }\n",
       "\n",
       "    .dataframe tbody tr th {\n",
       "        vertical-align: top;\n",
       "    }\n",
       "\n",
       "    .dataframe thead th {\n",
       "        text-align: right;\n",
       "    }\n",
       "</style>\n",
       "<table border=\"1\" class=\"dataframe\">\n",
       "  <thead>\n",
       "    <tr style=\"text-align: right;\">\n",
       "      <th></th>\n",
       "      <th>SAFRA_REF</th>\n",
       "      <th>VALOR_A_PAGAR</th>\n",
       "      <th>TAXA</th>\n",
       "      <th>DIFERENCA_DIAS</th>\n",
       "      <th>INADIMPLENTE</th>\n",
       "      <th>FLAG_PF</th>\n",
       "      <th>SEGMENTO_INDUSTRIAL</th>\n",
       "      <th>PORTE</th>\n",
       "      <th>RENDA_MES_ANTERIOR</th>\n",
       "      <th>NO_FUNCIONARIOS</th>\n",
       "      <th>PRAZO_PAGAMENTO</th>\n",
       "    </tr>\n",
       "  </thead>\n",
       "  <tbody>\n",
       "    <tr>\n",
       "      <th>0</th>\n",
       "      <td>2018-08</td>\n",
       "      <td>35516.41</td>\n",
       "      <td>6.99</td>\n",
       "      <td>0</td>\n",
       "      <td>False</td>\n",
       "      <td>0.0</td>\n",
       "      <td>Serviços</td>\n",
       "      <td>PEQUENO</td>\n",
       "      <td>NaN</td>\n",
       "      <td>NaN</td>\n",
       "      <td>20</td>\n",
       "    </tr>\n",
       "    <tr>\n",
       "      <th>1</th>\n",
       "      <td>2018-08</td>\n",
       "      <td>17758.21</td>\n",
       "      <td>6.99</td>\n",
       "      <td>1</td>\n",
       "      <td>False</td>\n",
       "      <td>0.0</td>\n",
       "      <td>Serviços</td>\n",
       "      <td>PEQUENO</td>\n",
       "      <td>NaN</td>\n",
       "      <td>NaN</td>\n",
       "      <td>22</td>\n",
       "    </tr>\n",
       "    <tr>\n",
       "      <th>2</th>\n",
       "      <td>2018-08</td>\n",
       "      <td>17431.96</td>\n",
       "      <td>6.99</td>\n",
       "      <td>1</td>\n",
       "      <td>False</td>\n",
       "      <td>0.0</td>\n",
       "      <td>Serviços</td>\n",
       "      <td>PEQUENO</td>\n",
       "      <td>NaN</td>\n",
       "      <td>NaN</td>\n",
       "      <td>22</td>\n",
       "    </tr>\n",
       "    <tr>\n",
       "      <th>3</th>\n",
       "      <td>2018-08</td>\n",
       "      <td>1341.00</td>\n",
       "      <td>6.99</td>\n",
       "      <td>6</td>\n",
       "      <td>True</td>\n",
       "      <td>0.0</td>\n",
       "      <td>Serviços</td>\n",
       "      <td>PEQUENO</td>\n",
       "      <td>NaN</td>\n",
       "      <td>NaN</td>\n",
       "      <td>36</td>\n",
       "    </tr>\n",
       "    <tr>\n",
       "      <th>4</th>\n",
       "      <td>2018-08</td>\n",
       "      <td>21309.85</td>\n",
       "      <td>6.99</td>\n",
       "      <td>0</td>\n",
       "      <td>False</td>\n",
       "      <td>0.0</td>\n",
       "      <td>Serviços</td>\n",
       "      <td>PEQUENO</td>\n",
       "      <td>NaN</td>\n",
       "      <td>NaN</td>\n",
       "      <td>20</td>\n",
       "    </tr>\n",
       "  </tbody>\n",
       "</table>\n",
       "</div>"
      ],
      "text/plain": [
       "  SAFRA_REF  VALOR_A_PAGAR  TAXA  DIFERENCA_DIAS  INADIMPLENTE  FLAG_PF  \\\n",
       "0   2018-08       35516.41  6.99               0         False      0.0   \n",
       "1   2018-08       17758.21  6.99               1         False      0.0   \n",
       "2   2018-08       17431.96  6.99               1         False      0.0   \n",
       "3   2018-08        1341.00  6.99               6          True      0.0   \n",
       "4   2018-08       21309.85  6.99               0         False      0.0   \n",
       "\n",
       "  SEGMENTO_INDUSTRIAL    PORTE  RENDA_MES_ANTERIOR  NO_FUNCIONARIOS  \\\n",
       "0            Serviços  PEQUENO                 NaN              NaN   \n",
       "1            Serviços  PEQUENO                 NaN              NaN   \n",
       "2            Serviços  PEQUENO                 NaN              NaN   \n",
       "3            Serviços  PEQUENO                 NaN              NaN   \n",
       "4            Serviços  PEQUENO                 NaN              NaN   \n",
       "\n",
       "   PRAZO_PAGAMENTO  \n",
       "0               20  \n",
       "1               22  \n",
       "2               22  \n",
       "3               36  \n",
       "4               20  "
      ]
     },
     "execution_count": 45,
     "metadata": {},
     "output_type": "execute_result"
    }
   ],
   "source": [
    "df_features_complete.head()"
   ]
  },
  {
   "cell_type": "code",
   "execution_count": 46,
   "metadata": {},
   "outputs": [
    {
     "name": "stdout",
     "output_type": "stream",
     "text": [
      "Tamanho do dataset de treino\n",
      "(54189, 11)\n",
      "Tamanho do dataset de validação\n",
      "(11612, 11)\n",
      "Tamanho do dataset de teste\n",
      "(11613, 11)\n"
     ]
    }
   ],
   "source": [
    "df_train, df_val_test = train_test_split(\n",
    "    df_features_complete,\n",
    "    test_size=0.3,\n",
    "    random_state=42,\n",
    "    stratify=df_features_complete[\"INADIMPLENTE\"],\n",
    ")\n",
    "\n",
    "df_val, df_test = train_test_split(\n",
    "    df_val_test, test_size=0.5, random_state=42, stratify=df_val_test[\"INADIMPLENTE\"]\n",
    ")\n",
    "\n",
    "print(\"Tamanho do dataset de treino\")\n",
    "print(df_train.shape)\n",
    "print(\"Tamanho do dataset de validação\")\n",
    "print(df_val.shape)\n",
    "print(\"Tamanho do dataset de teste\")\n",
    "print(df_test.shape)"
   ]
  },
  {
   "cell_type": "markdown",
   "metadata": {},
   "source": [
    "### Imputação de dados\n",
    "\n",
    "Para cada conjunto, serão imputados dados em 3 colunas: `PORTE`, `NO_FUNCIONARIOS` e `RENDA_MES_ANTERIOR`, conforme descrito na seção 2:\n",
    "\n",
    "* `PORTE`: será imputada com a moda para o segmento industrial da amostra\n",
    "* `NO_FUNCIONARIOS` e `RENDA_MES_ANTERIOR`: serão imputados com a mediana da combinação de segmento e porte da empresa"
   ]
  },
  {
   "cell_type": "code",
   "execution_count": 47,
   "metadata": {},
   "outputs": [
    {
     "data": {
      "text/plain": [
       "SAFRA_REF                 0\n",
       "VALOR_A_PAGAR             0\n",
       "TAXA                      0\n",
       "DIFERENCA_DIAS            0\n",
       "INADIMPLENTE              0\n",
       "FLAG_PF                   0\n",
       "SEGMENTO_INDUSTRIAL       0\n",
       "PORTE                     0\n",
       "RENDA_MES_ANTERIOR     2730\n",
       "NO_FUNCIONARIOS        2730\n",
       "PRAZO_PAGAMENTO           0\n",
       "dtype: int64"
      ]
     },
     "execution_count": 47,
     "metadata": {},
     "output_type": "execute_result"
    }
   ],
   "source": [
    "# Aplicar fill_na_with_mode para as colunas PORTE nos conjuntos de treino, validação e teste\n",
    "for df in [df_train, df_val, df_test]:\n",
    "    fill_na_with_mode(df, \"SEGMENTO_INDUSTRIAL\", \"PORTE\")\n",
    "\n",
    "df_train.isna().sum()"
   ]
  },
  {
   "cell_type": "code",
   "execution_count": 48,
   "metadata": {},
   "outputs": [
    {
     "name": "stdout",
     "output_type": "stream",
     "text": [
      "SAFRA_REF              0\n",
      "VALOR_A_PAGAR          0\n",
      "TAXA                   0\n",
      "DIFERENCA_DIAS         0\n",
      "INADIMPLENTE           0\n",
      "FLAG_PF                0\n",
      "SEGMENTO_INDUSTRIAL    0\n",
      "PORTE                  0\n",
      "RENDA_MES_ANTERIOR     0\n",
      "NO_FUNCIONARIOS        0\n",
      "PRAZO_PAGAMENTO        0\n",
      "dtype: int64\n"
     ]
    }
   ],
   "source": [
    "for df in [df_train, df_val, df_test]:\n",
    "    impute_with_median(df, [\"SEGMENTO_INDUSTRIAL\", \"PORTE\"], \"NO_FUNCIONARIOS\")\n",
    "    impute_with_median(df, [\"SEGMENTO_INDUSTRIAL\", \"PORTE\"], \"RENDA_MES_ANTERIOR\")\n",
    "\n",
    "# Check if there are any remaining missing values\n",
    "print(df_train.isna().sum())"
   ]
  },
  {
   "cell_type": "code",
   "execution_count": 49,
   "metadata": {},
   "outputs": [
    {
     "name": "stdout",
     "output_type": "stream",
     "text": [
      "(54189, 55)\n",
      "(11612, 55)\n",
      "(11613, 55)\n"
     ]
    }
   ],
   "source": [
    "X_train = df_train.drop([\"INADIMPLENTE\", \"DIFERENCA_DIAS\"], axis=1)\n",
    "y_train = df_train[\"INADIMPLENTE\"]\n",
    "\n",
    "X_val = df_val.drop([\"INADIMPLENTE\", \"DIFERENCA_DIAS\"], axis=1)\n",
    "y_val = df_val[\"INADIMPLENTE\"]\n",
    "\n",
    "X_test = df_test.drop([\"INADIMPLENTE\", \"DIFERENCA_DIAS\"], axis=1)\n",
    "y_test = df_test[\"INADIMPLENTE\"]\n",
    "\n",
    "# Seleciona colunas categóricas\n",
    "categorical_cols = [\n",
    "    \"SEGMENTO_INDUSTRIAL\",\n",
    "    \"PORTE\",\n",
    "    \"SAFRA_REF\",\n",
    "]\n",
    "\n",
    "# Converter colunas categóricas para string (safra_ref era data)\n",
    "X_train[categorical_cols] = X_train[categorical_cols].astype(str)\n",
    "X_val[categorical_cols] = X_val[categorical_cols].astype(str)\n",
    "X_test[categorical_cols] = X_test[categorical_cols].astype(str)\n",
    "\n",
    "# One-hot de colunas categóricas\n",
    "X_train_dummies = pd.get_dummies(X_train, columns=categorical_cols)\n",
    "X_train = pd.concat([X_train, X_train_dummies], axis=1)\n",
    "X_train = X_train.drop(categorical_cols, axis=1)\n",
    "\n",
    "X_val_dummies = pd.get_dummies(X_val, columns=categorical_cols)\n",
    "X_val = pd.concat([X_val, X_val_dummies], axis=1)\n",
    "X_val = X_val.drop(categorical_cols, axis=1)\n",
    "\n",
    "X_test_dummies = pd.get_dummies(X_test, columns=categorical_cols)\n",
    "X_test = pd.concat([X_test, X_test_dummies], axis=1)\n",
    "X_test = X_test.drop(categorical_cols, axis=1)\n",
    "\n",
    "# Conferir se o número de colunas é igual nos conjuntos de treino, validação e teste\n",
    "print(X_train.shape)\n",
    "print(X_val.shape)\n",
    "print(X_test.shape)"
   ]
  },
  {
   "cell_type": "code",
   "execution_count": 50,
   "metadata": {},
   "outputs": [],
   "source": [
    "# Transformar os dados em numéricos\n",
    "X_train = X_train.apply(pd.to_numeric)\n",
    "X_val = X_val.apply(pd.to_numeric)\n",
    "X_test = X_test.apply(pd.to_numeric)"
   ]
  },
  {
   "cell_type": "markdown",
   "metadata": {},
   "source": [
    "### Treinamento de modelos\n",
    "\n",
    "Serão testados três modelos de classificação diferentes:\n",
    "\n",
    "* Logistic Regression\n",
    "* Random forrest e "
   ]
  },
  {
   "cell_type": "code",
   "execution_count": 51,
   "metadata": {},
   "outputs": [],
   "source": [
    "logreg = LogisticRegression(\n",
    "    random_state=42  # random_state não surte efeito para solver lbfgs\n",
    ")\n",
    "logreg.fit(X_train, y_train)\n",
    "\n",
    "y_pred = logreg.predict(X_val)"
   ]
  },
  {
   "cell_type": "code",
   "execution_count": 52,
   "metadata": {},
   "outputs": [
    {
     "data": {
      "text/plain": [
       "np.float64(0.5063765016975712)"
      ]
     },
     "execution_count": 52,
     "metadata": {},
     "output_type": "execute_result"
    }
   ],
   "source": [
    "balanced_accuracy_score(y_val, y_pred)"
   ]
  },
  {
   "cell_type": "code",
   "execution_count": 53,
   "metadata": {},
   "outputs": [
    {
     "data": {
      "text/plain": [
       "np.float64(0.5066409002593092)"
      ]
     },
     "execution_count": 53,
     "metadata": {},
     "output_type": "execute_result"
    }
   ],
   "source": [
    "balanced_accuracy_score(y_train, logreg.predict(X_train))"
   ]
  },
  {
   "cell_type": "code",
   "execution_count": 54,
   "metadata": {},
   "outputs": [
    {
     "data": {
      "image/png": "[encoded data removed]",
      "text/plain": [
       "<Figure size 640x480 with 2 Axes>"
      ]
     },
     "metadata": {},
     "output_type": "display_data"
    }
   ],
   "source": [
    "ct = pd.crosstab(y_val, y_pred, rownames=[\"Real\"], colnames=[\"Predito\"])\n",
    "sns.heatmap(ct, annot=True, fmt=\"d\", cmap=\"coolwarm\")\n",
    "plt.show()"
   ]
  }
 ],
 "metadata": {
  "kernelspec": {
   "display_name": "venv",
   "language": "python",
   "name": "python3"
  },
  "language_info": {
   "codemirror_mode": {
    "name": "ipython",
    "version": 3
   },
   "file_extension": ".py",
   "mimetype": "text/x-python",
   "name": "python",
   "nbconvert_exporter": "python",
   "pygments_lexer": "ipython3",
   "version": "3.11.7"
  }
 },
 "nbformat": 4,
 "nbformat_minor": 2
}
