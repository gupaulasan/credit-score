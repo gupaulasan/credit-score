{
 "cells": [
  {
   "cell_type": "markdown",
   "metadata": {},
   "source": [
    "# Case: Score de crédito\n",
    "\n",
    "O score de crédito é uma importante ferramenta para instituições financeiras. Com ele, é possível estimar o risco de fornecer crédito a um cliente que o solicitou, reduzindo riscos de prejuízo por parte da instituição financeira por conta de inadimplência. De acordo com dados da [Serasa Experian](https://cdn.builder.io/o/assets%2Fb212bb18f00a40869a6cd42f77cbeefc%2F63e097304b0446f48433934a6685a388?alt=media&token=dab540dc-1f00-4809-9999-7407aa3e39fd&apiKey=b212bb18f00a40869a6cd42f77cbeefc), em Agosto de 2024, o número de pessoas inadimplentes no Brasil era de 72,5 milhões, representando uma dívida total de R$ 390,5 bilhões.\n",
    "\n",
    "A determinação de um score de crédito pode ser complexa, são diversos fatores que influenciam na probabilidade de inadimplência de um devedor.\n",
    "\n",
    "## Sumário"
   ]
  },
  {
   "cell_type": "markdown",
   "metadata": {},
   "source": [
    "## Imports\n",
    "\n",
    "Seção destinada à importação de bibliotecas, definições de funções e importação dos dados disponíveis"
   ]
  },
  {
   "cell_type": "code",
   "execution_count": 1,
   "metadata": {},
   "outputs": [
    {
     "data": {
      "text/plain": [
       "'/Users/gustavosantos/code/credit-score'"
      ]
     },
     "metadata": {},
     "output_type": "display_data"
    }
   ],
   "source": [
    "import os\n",
    "\n",
    "import matplotlib.pyplot as plt\n",
    "import numpy as np\n",
    "import pandas as pd\n",
    "import re\n",
    "\n",
    "# Mudar o diretório de trabalho para o diretório do projeto\n",
    "os.chdir(\"/Users/gustavosantos/code/credit-score\")\n",
    "display(os.getcwd())"
   ]
  },
  {
   "cell_type": "code",
   "execution_count": 2,
   "metadata": {},
   "outputs": [],
   "source": [
    "df_info = pd.read_csv(\"data/base_info.csv\")\n",
    "df_pagamentos = pd.read_csv(\"data/base_pagamentos_desenvolvimento.csv\")\n",
    "df_cadastral = pd.read_csv(\"data/base_cadastral.csv\")\n",
    "df_teste = pd.read_csv(\"data/base_pagamentos_teste.csv\")"
   ]
  },
  {
   "cell_type": "markdown",
   "metadata": {},
   "source": [
    "## Análise de dados\n",
    "\n",
    "Esta seção fornece uma visão detalhada da estrutura e do significado dos dados que estão sendo analisados"
   ]
  },
  {
   "cell_type": "markdown",
   "metadata": {},
   "source": [
    "### Dicionário de variáveis\n",
    "\n",
    "1. **Base Info** (`df_info`):\n",
    "    * **Chaves primárias (PK):** são as colunas que servem de referência para a agregação com as outras bases, cada par desses atributos deve aparecer apenas uma vez nessa base\n",
    "        - `ID_CLIENTE`: Identificador único do cliente.\n",
    "        - `SAFRA_REF`: Mês de referência da amostra.\n",
    "\n",
    "    * **Outros atributos:**\n",
    "        - `RENDA_MES_ANTERIOR`: Renda ou faturamento declarado pelo cliente no fim do mês anterior.\n",
    "        - `NO_FUNCIONARIOS`: Número de funcionários reportado pelo cliente no fim do mês anterior.\n",
    "\n",
    "2. **Base Cadastral** (`df_cadastral`):\n",
    "    * **Chave primária:**\n",
    "        - `ID_CLIENTE`: Identificador único do cliente. Servirá para realizar a junção com a coluna de mesmo nome na Base Info.\n",
    "\n",
    "    * **Outros atributos:**\n",
    "        - `DATA_CADASTRO`: Data da realização do cadastro no sistema. \n",
    "        - `DDD`: Número do DDD do telefone do cliente. \n",
    "        - `FLAG_PF`: Indica se o cliente é um pessoa física ('X') ou jurídica ('NaN')\n",
    "        - `SEGMENTO_INSTUSTRIAL`: Indica a qual segmento da indústria pertence o cliente\n",
    "        - `DOMINIO_EMAIL`: Indica o domínio (ou provedor) do email utilizado para o cadastro. \n",
    "        - `PORTE`: Indica o porte (tamanho) da empresa.\n",
    "        - `CEP_2DIG`: Indica os dois primeiros números do CEP do endereço cadastrados.\n",
    "\n",
    "3. **Base pagamentos** (`df_pagamentos` e `df_teste`):\n",
    "    * **Chaves estrangeiras (FK):** são as colunas que servem de referência para a Base Info e Base Cadastral\n",
    "        - `ID_CLIENTE`: Identificador único do cliente.\n",
    "        - `SAFRA_REF`: Mês de referência da amostra.\n",
    "    * **Outros atributos:**\n",
    "        - `DATA_EMISSAO_DOCUMENTO`: Data da emissão da nota de crédito.\n",
    "        - `DATA_VENCIMENTO`: Data limite para pagamento do empréstimo.\n",
    "        - `VALOR_A_PAGAR`: Valor da nota de crédito.\n",
    "        - `TAXA`: Taxa de jurso cobrada no empréstimo.\n",
    "        - `DATA_PAGAMENTO`: Data em que o cliente realizou o pagamento da nota. Disponível apenas na base de desenvolvimento (`df_pagamentos`).\n",
    "    * **Atributos a serem criados:**\n",
    "        - `INADIMPLENTE`: Indica se o cliente é inadimplente (1) ou não (0). Um cliente será considerado inadimplente quando a diferença entre as datas de vencimento e pagamento for maior ou igual a 5 dias.\n"
   ]
  },
  {
   "cell_type": "markdown",
   "metadata": {},
   "source": [
    "### Exploração inicial dos dados\n",
    "\n",
    "As bases disponibilizadas serão exploradas individualmente para depois serem unidas"
   ]
  },
  {
   "cell_type": "code",
   "execution_count": 3,
   "metadata": {},
   "outputs": [
    {
     "name": "stdout",
     "output_type": "stream",
     "text": [
      "Base Info\n"
     ]
    },
    {
     "data": {
      "text/html": [
       "<div>\n",
       "<style scoped>\n",
       "    .dataframe tbody tr th:only-of-type {\n",
       "        vertical-align: middle;\n",
       "    }\n",
       "\n",
       "    .dataframe tbody tr th {\n",
       "        vertical-align: top;\n",
       "    }\n",
       "\n",
       "    .dataframe thead th {\n",
       "        text-align: right;\n",
       "    }\n",
       "</style>\n",
       "<table border=\"1\" class=\"dataframe\">\n",
       "  <thead>\n",
       "    <tr style=\"text-align: right;\">\n",
       "      <th></th>\n",
       "      <th>ID_CLIENTE</th>\n",
       "      <th>SAFRA_REF</th>\n",
       "      <th>RENDA_MES_ANTERIOR</th>\n",
       "      <th>NO_FUNCIONARIOS</th>\n",
       "    </tr>\n",
       "  </thead>\n",
       "  <tbody>\n",
       "    <tr>\n",
       "      <th>0</th>\n",
       "      <td>1661240395903230676</td>\n",
       "      <td>2018-09</td>\n",
       "      <td>16913.0</td>\n",
       "      <td>92.0</td>\n",
       "    </tr>\n",
       "    <tr>\n",
       "      <th>1</th>\n",
       "      <td>8274986328479596038</td>\n",
       "      <td>2018-09</td>\n",
       "      <td>106430.0</td>\n",
       "      <td>141.0</td>\n",
       "    </tr>\n",
       "    <tr>\n",
       "      <th>2</th>\n",
       "      <td>345447888460137901</td>\n",
       "      <td>2018-09</td>\n",
       "      <td>707439.0</td>\n",
       "      <td>99.0</td>\n",
       "    </tr>\n",
       "  </tbody>\n",
       "</table>\n",
       "</div>"
      ],
      "text/plain": [
       "            ID_CLIENTE SAFRA_REF  RENDA_MES_ANTERIOR  NO_FUNCIONARIOS\n",
       "0  1661240395903230676   2018-09             16913.0             92.0\n",
       "1  8274986328479596038   2018-09            106430.0            141.0\n",
       "2   345447888460137901   2018-09            707439.0             99.0"
      ]
     },
     "metadata": {},
     "output_type": "display_data"
    },
    {
     "name": "stdout",
     "output_type": "stream",
     "text": [
      "Bases Pagamentos\n"
     ]
    },
    {
     "data": {
      "text/html": [
       "<div>\n",
       "<style scoped>\n",
       "    .dataframe tbody tr th:only-of-type {\n",
       "        vertical-align: middle;\n",
       "    }\n",
       "\n",
       "    .dataframe tbody tr th {\n",
       "        vertical-align: top;\n",
       "    }\n",
       "\n",
       "    .dataframe thead th {\n",
       "        text-align: right;\n",
       "    }\n",
       "</style>\n",
       "<table border=\"1\" class=\"dataframe\">\n",
       "  <thead>\n",
       "    <tr style=\"text-align: right;\">\n",
       "      <th></th>\n",
       "      <th>ID_CLIENTE</th>\n",
       "      <th>SAFRA_REF</th>\n",
       "      <th>DATA_EMISSAO_DOCUMENTO</th>\n",
       "      <th>DATA_PAGAMENTO</th>\n",
       "      <th>DATA_VENCIMENTO</th>\n",
       "      <th>VALOR_A_PAGAR</th>\n",
       "      <th>TAXA</th>\n",
       "    </tr>\n",
       "  </thead>\n",
       "  <tbody>\n",
       "    <tr>\n",
       "      <th>0</th>\n",
       "      <td>1661240395903230676</td>\n",
       "      <td>2018-08</td>\n",
       "      <td>2018-08-17</td>\n",
       "      <td>2018-09-06</td>\n",
       "      <td>2018-09-06</td>\n",
       "      <td>35516.41</td>\n",
       "      <td>6.99</td>\n",
       "    </tr>\n",
       "    <tr>\n",
       "      <th>1</th>\n",
       "      <td>1661240395903230676</td>\n",
       "      <td>2018-08</td>\n",
       "      <td>2018-08-19</td>\n",
       "      <td>2018-09-11</td>\n",
       "      <td>2018-09-10</td>\n",
       "      <td>17758.21</td>\n",
       "      <td>6.99</td>\n",
       "    </tr>\n",
       "    <tr>\n",
       "      <th>2</th>\n",
       "      <td>1661240395903230676</td>\n",
       "      <td>2018-08</td>\n",
       "      <td>2018-08-26</td>\n",
       "      <td>2018-09-18</td>\n",
       "      <td>2018-09-17</td>\n",
       "      <td>17431.96</td>\n",
       "      <td>6.99</td>\n",
       "    </tr>\n",
       "  </tbody>\n",
       "</table>\n",
       "</div>"
      ],
      "text/plain": [
       "            ID_CLIENTE SAFRA_REF DATA_EMISSAO_DOCUMENTO DATA_PAGAMENTO  \\\n",
       "0  1661240395903230676   2018-08             2018-08-17     2018-09-06   \n",
       "1  1661240395903230676   2018-08             2018-08-19     2018-09-11   \n",
       "2  1661240395903230676   2018-08             2018-08-26     2018-09-18   \n",
       "\n",
       "  DATA_VENCIMENTO  VALOR_A_PAGAR  TAXA  \n",
       "0      2018-09-06       35516.41  6.99  \n",
       "1      2018-09-10       17758.21  6.99  \n",
       "2      2018-09-17       17431.96  6.99  "
      ]
     },
     "metadata": {},
     "output_type": "display_data"
    },
    {
     "data": {
      "text/html": [
       "<div>\n",
       "<style scoped>\n",
       "    .dataframe tbody tr th:only-of-type {\n",
       "        vertical-align: middle;\n",
       "    }\n",
       "\n",
       "    .dataframe tbody tr th {\n",
       "        vertical-align: top;\n",
       "    }\n",
       "\n",
       "    .dataframe thead th {\n",
       "        text-align: right;\n",
       "    }\n",
       "</style>\n",
       "<table border=\"1\" class=\"dataframe\">\n",
       "  <thead>\n",
       "    <tr style=\"text-align: right;\">\n",
       "      <th></th>\n",
       "      <th>ID_CLIENTE</th>\n",
       "      <th>SAFRA_REF</th>\n",
       "      <th>DATA_EMISSAO_DOCUMENTO</th>\n",
       "      <th>DATA_VENCIMENTO</th>\n",
       "      <th>VALOR_A_PAGAR</th>\n",
       "      <th>TAXA</th>\n",
       "    </tr>\n",
       "  </thead>\n",
       "  <tbody>\n",
       "    <tr>\n",
       "      <th>0</th>\n",
       "      <td>5058298901476893676</td>\n",
       "      <td>2021-07</td>\n",
       "      <td>2021-07-14</td>\n",
       "      <td>2021-08-04</td>\n",
       "      <td>11204.75</td>\n",
       "      <td>4.99</td>\n",
       "    </tr>\n",
       "    <tr>\n",
       "      <th>1</th>\n",
       "      <td>274692171162531764</td>\n",
       "      <td>2021-07</td>\n",
       "      <td>2021-07-08</td>\n",
       "      <td>2021-08-23</td>\n",
       "      <td>60718.50</td>\n",
       "      <td>5.99</td>\n",
       "    </tr>\n",
       "    <tr>\n",
       "      <th>2</th>\n",
       "      <td>274692171162531764</td>\n",
       "      <td>2021-07</td>\n",
       "      <td>2021-07-11</td>\n",
       "      <td>2021-08-25</td>\n",
       "      <td>60718.50</td>\n",
       "      <td>5.99</td>\n",
       "    </tr>\n",
       "  </tbody>\n",
       "</table>\n",
       "</div>"
      ],
      "text/plain": [
       "            ID_CLIENTE SAFRA_REF DATA_EMISSAO_DOCUMENTO DATA_VENCIMENTO  \\\n",
       "0  5058298901476893676   2021-07             2021-07-14      2021-08-04   \n",
       "1   274692171162531764   2021-07             2021-07-08      2021-08-23   \n",
       "2   274692171162531764   2021-07             2021-07-11      2021-08-25   \n",
       "\n",
       "   VALOR_A_PAGAR  TAXA  \n",
       "0       11204.75  4.99  \n",
       "1       60718.50  5.99  \n",
       "2       60718.50  5.99  "
      ]
     },
     "metadata": {},
     "output_type": "display_data"
    },
    {
     "name": "stdout",
     "output_type": "stream",
     "text": [
      "Base Cadastral\n"
     ]
    },
    {
     "data": {
      "text/html": [
       "<div>\n",
       "<style scoped>\n",
       "    .dataframe tbody tr th:only-of-type {\n",
       "        vertical-align: middle;\n",
       "    }\n",
       "\n",
       "    .dataframe tbody tr th {\n",
       "        vertical-align: top;\n",
       "    }\n",
       "\n",
       "    .dataframe thead th {\n",
       "        text-align: right;\n",
       "    }\n",
       "</style>\n",
       "<table border=\"1\" class=\"dataframe\">\n",
       "  <thead>\n",
       "    <tr style=\"text-align: right;\">\n",
       "      <th></th>\n",
       "      <th>ID_CLIENTE</th>\n",
       "      <th>DATA_CADASTRO</th>\n",
       "      <th>DDD</th>\n",
       "      <th>FLAG_PF</th>\n",
       "      <th>SEGMENTO_INDUSTRIAL</th>\n",
       "      <th>DOMINIO_EMAIL</th>\n",
       "      <th>PORTE</th>\n",
       "      <th>CEP_2_DIG</th>\n",
       "    </tr>\n",
       "  </thead>\n",
       "  <tbody>\n",
       "    <tr>\n",
       "      <th>0</th>\n",
       "      <td>1661240395903230676</td>\n",
       "      <td>2013-08-22</td>\n",
       "      <td>99</td>\n",
       "      <td>NaN</td>\n",
       "      <td>Serviços</td>\n",
       "      <td>YAHOO</td>\n",
       "      <td>PEQUENO</td>\n",
       "      <td>65</td>\n",
       "    </tr>\n",
       "    <tr>\n",
       "      <th>1</th>\n",
       "      <td>8274986328479596038</td>\n",
       "      <td>2017-01-25</td>\n",
       "      <td>31</td>\n",
       "      <td>NaN</td>\n",
       "      <td>Comércio</td>\n",
       "      <td>YAHOO</td>\n",
       "      <td>MEDIO</td>\n",
       "      <td>77</td>\n",
       "    </tr>\n",
       "    <tr>\n",
       "      <th>2</th>\n",
       "      <td>345447888460137901</td>\n",
       "      <td>2000-08-15</td>\n",
       "      <td>75</td>\n",
       "      <td>NaN</td>\n",
       "      <td>Serviços</td>\n",
       "      <td>HOTMAIL</td>\n",
       "      <td>PEQUENO</td>\n",
       "      <td>48</td>\n",
       "    </tr>\n",
       "  </tbody>\n",
       "</table>\n",
       "</div>"
      ],
      "text/plain": [
       "            ID_CLIENTE DATA_CADASTRO DDD FLAG_PF SEGMENTO_INDUSTRIAL  \\\n",
       "0  1661240395903230676    2013-08-22  99     NaN            Serviços   \n",
       "1  8274986328479596038    2017-01-25  31     NaN            Comércio   \n",
       "2   345447888460137901    2000-08-15  75     NaN            Serviços   \n",
       "\n",
       "  DOMINIO_EMAIL    PORTE CEP_2_DIG  \n",
       "0         YAHOO  PEQUENO        65  \n",
       "1         YAHOO    MEDIO        77  \n",
       "2       HOTMAIL  PEQUENO        48  "
      ]
     },
     "metadata": {},
     "output_type": "display_data"
    }
   ],
   "source": [
    "# Ver as 3 primeiras linhas de cada dataframe\n",
    "print(\"Base Info\")\n",
    "display(df_info.head(3))\n",
    "print(\"Bases Pagamentos\")\n",
    "display(df_pagamentos.head(3))\n",
    "display(df_teste.head(3))\n",
    "print(\"Base Cadastral\")\n",
    "display(df_cadastral.head(3))"
   ]
  },
  {
   "cell_type": "markdown",
   "metadata": {},
   "source": [
    "É possível perceber que todas as colunas descritas estão presentes nas bases. Além disso, a coluna `DATA_EMISSAO_DOCUMENTO` parece ser desncessária, uma vez que a coluna `SAFRA_REF` já traz a informação sobre o mês de emissão do documento de crédito."
   ]
  },
  {
   "cell_type": "code",
   "execution_count": 4,
   "metadata": {},
   "outputs": [
    {
     "name": "stdout",
     "output_type": "stream",
     "text": [
      "Tamanho dos dataframes\n",
      "Base Info\n",
      "Entradas: 24401\n",
      "Variáveis: 4\n",
      "--------------------\n",
      "Bases Pagamentos\n",
      "Entradas: 77414\n",
      "Variáveis: 7\n",
      "--------------------\n",
      "Base Teste\n",
      "Entradas: 12275\n",
      "Variáveis: 6\n",
      "--------------------\n",
      "Base Cadastral\n",
      "Entradas: 1315\n",
      "Variáveis: 8\n"
     ]
    }
   ],
   "source": [
    "# Visualizar tamanho dos dataframes\n",
    "print(\"Tamanho dos dataframes\")\n",
    "print(\"Base Info\")\n",
    "print(f\"Entradas: {df_info.shape[0]}\")\n",
    "print(f\"Variáveis: {df_info.shape[1]}\")\n",
    "print(\"-\" * 20)\n",
    "\n",
    "print(\"Bases Pagamentos\")\n",
    "print(f\"Entradas: {df_pagamentos.shape[0]}\")\n",
    "print(f\"Variáveis: {df_pagamentos.shape[1]}\")\n",
    "print(\"-\" * 20)\n",
    "\n",
    "print(\"Base Teste\")\n",
    "print(f\"Entradas: {df_teste.shape[0]}\")\n",
    "print(f\"Variáveis: {df_teste.shape[1]}\")\n",
    "print(\"-\" * 20)\n",
    "\n",
    "print(\"Base Cadastral\")\n",
    "print(f\"Entradas: {df_cadastral.shape[0]}\")\n",
    "print(f\"Variáveis: {df_cadastral.shape[1]}\")"
   ]
  },
  {
   "cell_type": "code",
   "execution_count": 5,
   "metadata": {},
   "outputs": [
    {
     "name": "stdout",
     "output_type": "stream",
     "text": [
      "Tipos de variáveis para base info\n",
      "ID_CLIENTE              int64\n",
      "SAFRA_REF              object\n",
      "RENDA_MES_ANTERIOR    float64\n",
      "NO_FUNCIONARIOS       float64\n",
      "dtype: object\n"
     ]
    }
   ],
   "source": [
    "# Tipos de variáveis para base info\n",
    "print(\"Tipos de variáveis para base info\")\n",
    "print(df_info.dtypes)"
   ]
  },
  {
   "cell_type": "code",
   "execution_count": 6,
   "metadata": {},
   "outputs": [
    {
     "name": "stdout",
     "output_type": "stream",
     "text": [
      "Tipos de variáveis para base pagamentos\n",
      "ID_CLIENTE                  int64\n",
      "SAFRA_REF                  object\n",
      "DATA_EMISSAO_DOCUMENTO     object\n",
      "DATA_PAGAMENTO             object\n",
      "DATA_VENCIMENTO            object\n",
      "VALOR_A_PAGAR             float64\n",
      "TAXA                      float64\n",
      "dtype: object\n"
     ]
    }
   ],
   "source": [
    "# Tipos de variáveis para base pagamentos\n",
    "print(\"Tipos de variáveis para base pagamentos\")\n",
    "print(df_pagamentos.dtypes)"
   ]
  },
  {
   "cell_type": "markdown",
   "metadata": {},
   "source": [
    "As colunas ``DATA_EMISSAO_DOCUMENTO``, ``DATA_PAGAMENTO`` e ``DATA_VENCIMENTO`` estão em formato de texto e deverão ser transformadas em formato de data"
   ]
  },
  {
   "cell_type": "code",
   "execution_count": 7,
   "metadata": {},
   "outputs": [
    {
     "name": "stdout",
     "output_type": "stream",
     "text": [
      "Tipos de variáveis para base teste\n",
      "ID_CLIENTE                  int64\n",
      "SAFRA_REF                  object\n",
      "DATA_EMISSAO_DOCUMENTO     object\n",
      "DATA_VENCIMENTO            object\n",
      "VALOR_A_PAGAR             float64\n",
      "TAXA                      float64\n",
      "dtype: object\n"
     ]
    }
   ],
   "source": [
    "# Tipos de variáveis para base teste\n",
    "print(\"Tipos de variáveis para base teste\")\n",
    "print(df_teste.dtypes)"
   ]
  },
  {
   "cell_type": "code",
   "execution_count": 8,
   "metadata": {},
   "outputs": [
    {
     "name": "stdout",
     "output_type": "stream",
     "text": [
      "Tipos de variáveis para base cadastral\n",
      "ID_CLIENTE              int64\n",
      "DATA_CADASTRO          object\n",
      "DDD                    object\n",
      "FLAG_PF                object\n",
      "SEGMENTO_INDUSTRIAL    object\n",
      "DOMINIO_EMAIL          object\n",
      "PORTE                  object\n",
      "CEP_2_DIG              object\n",
      "dtype: object\n"
     ]
    }
   ],
   "source": [
    "# Tipos de variáveis para base cadastral\n",
    "print(\"Tipos de variáveis para base cadastral\")\n",
    "print(df_cadastral.dtypes)"
   ]
  },
  {
   "cell_type": "markdown",
   "metadata": {},
   "source": [
    "O fato de a coluna `DDD` não ser numérica pode indicar que há alguma inconsistência nas entradas dessa coluna"
   ]
  },
  {
   "cell_type": "code",
   "execution_count": 9,
   "metadata": {},
   "outputs": [
    {
     "data": {
      "text/plain": [
       "array(['99', '31', '75', '49', '88', '18', '67', '21', '11', '44', nan,\n",
       "       '19', '14', '16', '85', '41', '51', '12', '62', '43', '91', '42',\n",
       "       '61', '33', '48', '71', '65', '38', '24', '(3', '47', '28', '(2',\n",
       "       '81', '35', '13', '86', '94', '45', '17', '55', '64', '69', '32',\n",
       "       '(6', '27', '66', '63', '46', '(1', '54', '77', '34', '74', '37',\n",
       "       '53', '56', '95', '22', '73', '(9', '(4', '52', '87', '98', '(8',\n",
       "       '92', '82', '79', '93', '83', '00', '(5', '15', '02', '84', '(0',\n",
       "       '04', '07', '(7'], dtype=object)"
      ]
     },
     "execution_count": 9,
     "metadata": {},
     "output_type": "execute_result"
    }
   ],
   "source": [
    "unique_ddd = df_cadastral[\"DDD\"].unique()\n",
    "unique_ddd"
   ]
  },
  {
   "cell_type": "markdown",
   "metadata": {},
   "source": [
    "De fato há valores fornecidos para a variável `DDD` que não são válidos. Como a variável `DDD` seria representativa apenas para localizacão do cliente e já temos a coluna `CEP` com dois dígitos, que representam a região e subregião de acordo com os [Correios](https://www.correios.com.br/enviar/precisa-de-ajuda/imagens/tudo-sobre-cep/cep-desktop), essa coluna pode ser utilizada como localizador do cliente, caso seja necessário.\n",
    "\n",
    "Por isso, não trateremos as inconsistências da coluna `DDD` da base cadastral."
   ]
  },
  {
   "cell_type": "code",
   "execution_count": 10,
   "metadata": {},
   "outputs": [
    {
     "name": "stdout",
     "output_type": "stream",
     "text": [
      "Porcentagem de valores faltantes ou nulos para base info\n",
      "ID_CLIENTE            0.0\n",
      "SAFRA_REF             0.0\n",
      "RENDA_MES_ANTERIOR    0.0\n",
      "NO_FUNCIONARIOS       0.0\n",
      "dtype: float64\n"
     ]
    }
   ],
   "source": [
    "# Porcentagem de valores faltantes ou nulos\n",
    "print(\"Porcentagem de valores faltantes ou nulos para base info\")\n",
    "print((df_info.isnull().sum() / df_info.shape[0] * 100).round(2))"
   ]
  },
  {
   "cell_type": "code",
   "execution_count": 11,
   "metadata": {},
   "outputs": [
    {
     "name": "stdout",
     "output_type": "stream",
     "text": [
      "Porcentagem de valores faltantes ou nulos para base pagamentos\n",
      "ID_CLIENTE                0.0\n",
      "SAFRA_REF                 0.0\n",
      "DATA_EMISSAO_DOCUMENTO    0.0\n",
      "DATA_PAGAMENTO            0.0\n",
      "DATA_VENCIMENTO           0.0\n",
      "VALOR_A_PAGAR             0.0\n",
      "TAXA                      0.0\n",
      "dtype: float64\n"
     ]
    }
   ],
   "source": [
    "print(\"Porcentagem de valores faltantes ou nulos para base pagamentos\")\n",
    "print((df_pagamentos.isnull().sum() / df_pagamentos.shape[0] * 100).round(2))"
   ]
  },
  {
   "cell_type": "code",
   "execution_count": 12,
   "metadata": {},
   "outputs": [
    {
     "name": "stdout",
     "output_type": "stream",
     "text": [
      "Porcentagem de valores faltantes ou nulos para base teste\n",
      "ID_CLIENTE                0.0\n",
      "SAFRA_REF                 0.0\n",
      "DATA_EMISSAO_DOCUMENTO    0.0\n",
      "DATA_VENCIMENTO           0.0\n",
      "VALOR_A_PAGAR             0.0\n",
      "TAXA                      0.0\n",
      "dtype: float64\n"
     ]
    }
   ],
   "source": [
    "print(\"Porcentagem de valores faltantes ou nulos para base teste\")\n",
    "print((df_teste.isnull().sum() / df_teste.shape[0] * 100).round(2))"
   ]
  },
  {
   "cell_type": "code",
   "execution_count": 13,
   "metadata": {},
   "outputs": [
    {
     "name": "stdout",
     "output_type": "stream",
     "text": [
      "Porcentagem de valores faltantes ou nulos para base cadastral\n",
      "ID_CLIENTE              0.00\n",
      "DATA_CADASTRO           0.00\n",
      "DDD                    18.02\n",
      "FLAG_PF                94.98\n",
      "SEGMENTO_INDUSTRIAL     6.31\n",
      "DOMINIO_EMAIL           2.28\n",
      "PORTE                   3.12\n",
      "CEP_2_DIG               0.00\n",
      "dtype: float64\n"
     ]
    }
   ],
   "source": [
    "print(\"Porcentagem de valores faltantes ou nulos para base cadastral\")\n",
    "print((df_cadastral.isnull().sum() / df_cadastral.shape[0] * 100).round(2))"
   ]
  },
  {
   "cell_type": "markdown",
   "metadata": {},
   "source": [
    "A coluna `FLAG_PF` da base cadastral contém 94,98% de valores nulos. O nulo, como indicado no dicionário de variáveis, indica que o registro na base é referente a uma pessoa jurídica. As outras colunas, como `SEGMENTO_INDUSTRIAL` podem ter relação com a coluna `FLAG_PF` uma vez que não faria sentido registrar o segmento industrial de uma pessoa física."
   ]
  },
  {
   "cell_type": "markdown",
   "metadata": {},
   "source": [
    "### Pré-processamento\n",
    "\n",
    "Para realização de análises univariadas e bivariadas, será necessário tratar os pontos levantados ao longo da seção anterior."
   ]
  },
  {
   "cell_type": "code",
   "execution_count": 14,
   "metadata": {},
   "outputs": [],
   "source": [
    "# Transformar colunas com datas em datetime\n",
    "df_pagamentos[[\"DATA_EMISSAO_DOCUMENTO\", \"DATA_VENCIMENTO\", \"DATA_PAGAMENTO\"]] = (\n",
    "    df_pagamentos[\n",
    "        [\"DATA_EMISSAO_DOCUMENTO\", \"DATA_VENCIMENTO\", \"DATA_PAGAMENTO\"]\n",
    "    ].apply(pd.to_datetime)\n",
    ")\n",
    "\n",
    "# Criar coluna com a diferença entre a data de vencimento e a data de pagamento\n",
    "df_pagamentos[\"DIFERENCA_DIAS\"] = (\n",
    "    df_pagamentos[\"DATA_PAGAMENTO\"] - df_pagamentos[\"DATA_VENCIMENTO\"]\n",
    ").dt.days\n",
    "\n",
    "# Criar coluna de inadimplência (DIFERENCA_DIAS > 5)\n",
    "df_pagamentos[\"INADIMPLENTE\"] = df_pagamentos[\"DIFERENCA_DIAS\"] > 5"
   ]
  },
  {
   "cell_type": "code",
   "execution_count": 15,
   "metadata": {},
   "outputs": [
    {
     "data": {
      "text/html": [
       "<div>\n",
       "<style scoped>\n",
       "    .dataframe tbody tr th:only-of-type {\n",
       "        vertical-align: middle;\n",
       "    }\n",
       "\n",
       "    .dataframe tbody tr th {\n",
       "        vertical-align: top;\n",
       "    }\n",
       "\n",
       "    .dataframe thead th {\n",
       "        text-align: right;\n",
       "    }\n",
       "</style>\n",
       "<table border=\"1\" class=\"dataframe\">\n",
       "  <thead>\n",
       "    <tr style=\"text-align: right;\">\n",
       "      <th></th>\n",
       "      <th>ID_CLIENTE</th>\n",
       "      <th>SAFRA_REF</th>\n",
       "      <th>DATA_EMISSAO_DOCUMENTO</th>\n",
       "      <th>DATA_PAGAMENTO</th>\n",
       "      <th>DATA_VENCIMENTO</th>\n",
       "      <th>VALOR_A_PAGAR</th>\n",
       "      <th>TAXA</th>\n",
       "      <th>DIFERENCA_DIAS</th>\n",
       "      <th>INADIMPLENTE</th>\n",
       "    </tr>\n",
       "  </thead>\n",
       "  <tbody>\n",
       "    <tr>\n",
       "      <th>0</th>\n",
       "      <td>1661240395903230676</td>\n",
       "      <td>2018-08</td>\n",
       "      <td>2018-08-17</td>\n",
       "      <td>2018-09-06</td>\n",
       "      <td>2018-09-06</td>\n",
       "      <td>35516.41</td>\n",
       "      <td>6.99</td>\n",
       "      <td>0</td>\n",
       "      <td>False</td>\n",
       "    </tr>\n",
       "    <tr>\n",
       "      <th>1</th>\n",
       "      <td>1661240395903230676</td>\n",
       "      <td>2018-08</td>\n",
       "      <td>2018-08-19</td>\n",
       "      <td>2018-09-11</td>\n",
       "      <td>2018-09-10</td>\n",
       "      <td>17758.21</td>\n",
       "      <td>6.99</td>\n",
       "      <td>1</td>\n",
       "      <td>False</td>\n",
       "    </tr>\n",
       "    <tr>\n",
       "      <th>2</th>\n",
       "      <td>1661240395903230676</td>\n",
       "      <td>2018-08</td>\n",
       "      <td>2018-08-26</td>\n",
       "      <td>2018-09-18</td>\n",
       "      <td>2018-09-17</td>\n",
       "      <td>17431.96</td>\n",
       "      <td>6.99</td>\n",
       "      <td>1</td>\n",
       "      <td>False</td>\n",
       "    </tr>\n",
       "  </tbody>\n",
       "</table>\n",
       "</div>"
      ],
      "text/plain": [
       "            ID_CLIENTE SAFRA_REF DATA_EMISSAO_DOCUMENTO DATA_PAGAMENTO  \\\n",
       "0  1661240395903230676   2018-08             2018-08-17     2018-09-06   \n",
       "1  1661240395903230676   2018-08             2018-08-19     2018-09-11   \n",
       "2  1661240395903230676   2018-08             2018-08-26     2018-09-18   \n",
       "\n",
       "  DATA_VENCIMENTO  VALOR_A_PAGAR  TAXA  DIFERENCA_DIAS  INADIMPLENTE  \n",
       "0      2018-09-06       35516.41  6.99               0         False  \n",
       "1      2018-09-10       17758.21  6.99               1         False  \n",
       "2      2018-09-17       17431.96  6.99               1         False  "
      ]
     },
     "execution_count": 15,
     "metadata": {},
     "output_type": "execute_result"
    }
   ],
   "source": [
    "df_pagamentos.head(3)"
   ]
  },
  {
   "cell_type": "code",
   "execution_count": 16,
   "metadata": {},
   "outputs": [],
   "source": [
    "df_teste[[\"DATA_EMISSAO_DOCUMENTO\", \"DATA_VENCIMENTO\"]] = df_teste[\n",
    "    [\"DATA_EMISSAO_DOCUMENTO\", \"DATA_VENCIMENTO\"]\n",
    "].apply(pd.to_datetime)"
   ]
  },
  {
   "cell_type": "code",
   "execution_count": 17,
   "metadata": {},
   "outputs": [
    {
     "data": {
      "text/html": [
       "<div>\n",
       "<style scoped>\n",
       "    .dataframe tbody tr th:only-of-type {\n",
       "        vertical-align: middle;\n",
       "    }\n",
       "\n",
       "    .dataframe tbody tr th {\n",
       "        vertical-align: top;\n",
       "    }\n",
       "\n",
       "    .dataframe thead th {\n",
       "        text-align: right;\n",
       "    }\n",
       "</style>\n",
       "<table border=\"1\" class=\"dataframe\">\n",
       "  <thead>\n",
       "    <tr style=\"text-align: right;\">\n",
       "      <th></th>\n",
       "      <th>ID_CLIENTE</th>\n",
       "      <th>DATA_CADASTRO</th>\n",
       "      <th>DDD</th>\n",
       "      <th>FLAG_PF</th>\n",
       "      <th>SEGMENTO_INDUSTRIAL</th>\n",
       "      <th>DOMINIO_EMAIL</th>\n",
       "      <th>PORTE</th>\n",
       "      <th>CEP_2_DIG</th>\n",
       "    </tr>\n",
       "  </thead>\n",
       "  <tbody>\n",
       "    <tr>\n",
       "      <th>0</th>\n",
       "      <td>1661240395903230676</td>\n",
       "      <td>2013-08-22</td>\n",
       "      <td>99</td>\n",
       "      <td>0.0</td>\n",
       "      <td>Serviços</td>\n",
       "      <td>YAHOO</td>\n",
       "      <td>PEQUENO</td>\n",
       "      <td>65</td>\n",
       "    </tr>\n",
       "    <tr>\n",
       "      <th>1</th>\n",
       "      <td>8274986328479596038</td>\n",
       "      <td>2017-01-25</td>\n",
       "      <td>31</td>\n",
       "      <td>0.0</td>\n",
       "      <td>Comércio</td>\n",
       "      <td>YAHOO</td>\n",
       "      <td>MEDIO</td>\n",
       "      <td>77</td>\n",
       "    </tr>\n",
       "    <tr>\n",
       "      <th>2</th>\n",
       "      <td>345447888460137901</td>\n",
       "      <td>2000-08-15</td>\n",
       "      <td>75</td>\n",
       "      <td>0.0</td>\n",
       "      <td>Serviços</td>\n",
       "      <td>HOTMAIL</td>\n",
       "      <td>PEQUENO</td>\n",
       "      <td>48</td>\n",
       "    </tr>\n",
       "    <tr>\n",
       "      <th>3</th>\n",
       "      <td>1003144834589372198</td>\n",
       "      <td>2017-08-06</td>\n",
       "      <td>49</td>\n",
       "      <td>0.0</td>\n",
       "      <td>Serviços</td>\n",
       "      <td>OUTLOOK</td>\n",
       "      <td>PEQUENO</td>\n",
       "      <td>89</td>\n",
       "    </tr>\n",
       "    <tr>\n",
       "      <th>4</th>\n",
       "      <td>324916756972236008</td>\n",
       "      <td>2011-02-14</td>\n",
       "      <td>88</td>\n",
       "      <td>0.0</td>\n",
       "      <td>Serviços</td>\n",
       "      <td>GMAIL</td>\n",
       "      <td>GRANDE</td>\n",
       "      <td>62</td>\n",
       "    </tr>\n",
       "  </tbody>\n",
       "</table>\n",
       "</div>"
      ],
      "text/plain": [
       "            ID_CLIENTE DATA_CADASTRO DDD  FLAG_PF SEGMENTO_INDUSTRIAL  \\\n",
       "0  1661240395903230676    2013-08-22  99      0.0            Serviços   \n",
       "1  8274986328479596038    2017-01-25  31      0.0            Comércio   \n",
       "2   345447888460137901    2000-08-15  75      0.0            Serviços   \n",
       "3  1003144834589372198    2017-08-06  49      0.0            Serviços   \n",
       "4   324916756972236008    2011-02-14  88      0.0            Serviços   \n",
       "\n",
       "  DOMINIO_EMAIL    PORTE CEP_2_DIG  \n",
       "0         YAHOO  PEQUENO        65  \n",
       "1         YAHOO    MEDIO        77  \n",
       "2       HOTMAIL  PEQUENO        48  \n",
       "3       OUTLOOK  PEQUENO        89  \n",
       "4         GMAIL   GRANDE        62  "
      ]
     },
     "execution_count": 17,
     "metadata": {},
     "output_type": "execute_result"
    }
   ],
   "source": [
    "df_cadastral[\"FLAG_PF\"] = df_cadastral[\"FLAG_PF\"].map({\"X\": 1})\n",
    "df_cadastral[\"FLAG_PF\"] = df_cadastral[\"FLAG_PF\"].fillna(0)\n",
    "\n",
    "df_cadastral.head()"
   ]
  }
 ],
 "metadata": {
  "kernelspec": {
   "display_name": "venv",
   "language": "python",
   "name": "python3"
  },
  "language_info": {
   "codemirror_mode": {
    "name": "ipython",
    "version": 3
   },
   "file_extension": ".py",
   "mimetype": "text/x-python",
   "name": "python",
   "nbconvert_exporter": "python",
   "pygments_lexer": "ipython3",
   "version": "3.11.7"
  }
 },
 "nbformat": 4,
 "nbformat_minor": 2
}
